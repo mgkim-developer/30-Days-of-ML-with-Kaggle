{
 "cells": [
  {
   "cell_type": "markdown",
   "id": "9f9b97c4",
   "metadata": {
    "papermill": {
     "duration": 0.006132,
     "end_time": "2021-08-13T09:35:16.847760",
     "exception": false,
     "start_time": "2021-08-13T09:35:16.841628",
     "status": "completed"
    },
    "tags": []
   },
   "source": [
    "**This notebook is an exercise in the [Introduction to Machine Learning](https://www.kaggle.com/learn/intro-to-machine-learning) course.  You can reference the tutorial at [this link](https://www.kaggle.com/dansbecker/random-forests).**\n",
    "\n",
    "---\n"
   ]
  },
  {
   "cell_type": "markdown",
   "id": "3b086616",
   "metadata": {
    "papermill": {
     "duration": 0.004525,
     "end_time": "2021-08-13T09:35:16.857607",
     "exception": false,
     "start_time": "2021-08-13T09:35:16.853082",
     "status": "completed"
    },
    "tags": []
   },
   "source": [
    "## Recap\n",
    "Here's the code you've written so far."
   ]
  },
  {
   "cell_type": "code",
   "execution_count": 1,
   "id": "88ad029d",
   "metadata": {
    "execution": {
     "iopub.execute_input": "2021-08-13T09:35:16.879823Z",
     "iopub.status.busy": "2021-08-13T09:35:16.879203Z",
     "iopub.status.idle": "2021-08-13T09:35:18.173145Z",
     "shell.execute_reply": "2021-08-13T09:35:18.173617Z",
     "shell.execute_reply.started": "2021-08-13T09:31:41.068834Z"
    },
    "papermill": {
     "duration": 1.311498,
     "end_time": "2021-08-13T09:35:18.173909",
     "exception": false,
     "start_time": "2021-08-13T09:35:16.862411",
     "status": "completed"
    },
    "tags": []
   },
   "outputs": [
    {
     "name": "stdout",
     "output_type": "stream",
     "text": [
      "Validation MAE when not specifying max_leaf_nodes: 29,653\n",
      "Validation MAE for best value of max_leaf_nodes: 27,283\n",
      "\n",
      "Setup complete\n"
     ]
    }
   ],
   "source": [
    "# Code you have previously used to load data\n",
    "import pandas as pd\n",
    "from sklearn.metrics import mean_absolute_error\n",
    "from sklearn.model_selection import train_test_split\n",
    "from sklearn.tree import DecisionTreeRegressor\n",
    "\n",
    "\n",
    "# Path of the file to read\n",
    "iowa_file_path = '../input/home-data-for-ml-course/train.csv'\n",
    "\n",
    "home_data = pd.read_csv(iowa_file_path)\n",
    "# Create target object and call it y\n",
    "y = home_data.SalePrice\n",
    "# Create X\n",
    "features = ['LotArea', 'YearBuilt', '1stFlrSF', '2ndFlrSF', 'FullBath', 'BedroomAbvGr', 'TotRmsAbvGrd']\n",
    "X = home_data[features]\n",
    "\n",
    "# Split into validation and training data\n",
    "train_X, val_X, train_y, val_y = train_test_split(X, y, random_state=1)\n",
    "\n",
    "# Specify Model\n",
    "iowa_model = DecisionTreeRegressor(random_state=1)\n",
    "# Fit Model\n",
    "iowa_model.fit(train_X, train_y)\n",
    "\n",
    "# Make validation predictions and calculate mean absolute error\n",
    "val_predictions = iowa_model.predict(val_X)\n",
    "val_mae = mean_absolute_error(val_predictions, val_y)\n",
    "print(\"Validation MAE when not specifying max_leaf_nodes: {:,.0f}\".format(val_mae))\n",
    "\n",
    "# Using best value for max_leaf_nodes\n",
    "iowa_model = DecisionTreeRegressor(max_leaf_nodes=100, random_state=1)\n",
    "iowa_model.fit(train_X, train_y)\n",
    "val_predictions = iowa_model.predict(val_X)\n",
    "val_mae = mean_absolute_error(val_predictions, val_y)\n",
    "print(\"Validation MAE for best value of max_leaf_nodes: {:,.0f}\".format(val_mae))\n",
    "\n",
    "\n",
    "# Set up code checking\n",
    "from learntools.core import binder\n",
    "binder.bind(globals())\n",
    "from learntools.machine_learning.ex6 import *\n",
    "print(\"\\nSetup complete\")"
   ]
  },
  {
   "cell_type": "markdown",
   "id": "5456c6cb",
   "metadata": {
    "papermill": {
     "duration": 0.005016,
     "end_time": "2021-08-13T09:35:18.184600",
     "exception": false,
     "start_time": "2021-08-13T09:35:18.179584",
     "status": "completed"
    },
    "tags": []
   },
   "source": [
    "# Exercises\n",
    "Data science isn't always this easy. But replacing the decision tree with a Random Forest is going to be an easy win."
   ]
  },
  {
   "cell_type": "markdown",
   "id": "5de476d3",
   "metadata": {
    "papermill": {
     "duration": 0.00481,
     "end_time": "2021-08-13T09:35:18.194678",
     "exception": false,
     "start_time": "2021-08-13T09:35:18.189868",
     "status": "completed"
    },
    "tags": []
   },
   "source": [
    "## Step 1: Use a Random Forest"
   ]
  },
  {
   "cell_type": "code",
   "execution_count": 2,
   "id": "52f96bac",
   "metadata": {
    "execution": {
     "iopub.execute_input": "2021-08-13T09:35:18.210543Z",
     "iopub.status.busy": "2021-08-13T09:35:18.209802Z",
     "iopub.status.idle": "2021-08-13T09:35:18.709286Z",
     "shell.execute_reply": "2021-08-13T09:35:18.708800Z",
     "shell.execute_reply.started": "2021-08-13T09:32:46.106286Z"
    },
    "papermill": {
     "duration": 0.509517,
     "end_time": "2021-08-13T09:35:18.709416",
     "exception": false,
     "start_time": "2021-08-13T09:35:18.199899",
     "status": "completed"
    },
    "tags": []
   },
   "outputs": [
    {
     "name": "stdout",
     "output_type": "stream",
     "text": [
      "Validation MAE for Random Forest Model: 21857.15912981083\n"
     ]
    },
    {
     "data": {
      "application/javascript": [
       "parent.postMessage({\"jupyterEvent\": \"custom.exercise_interaction\", \"data\": {\"outcomeType\": 1, \"valueTowardsCompletion\": 1.0, \"interactionType\": 1, \"questionType\": 2, \"questionId\": \"1_CheckRfScore\", \"learnToolsVersion\": \"0.3.4\", \"failureMessage\": \"\", \"exceptionClass\": \"\", \"trace\": \"\"}}, \"*\")"
      ],
      "text/plain": [
       "<IPython.core.display.Javascript object>"
      ]
     },
     "metadata": {},
     "output_type": "display_data"
    },
    {
     "data": {
      "text/markdown": [
       "<span style=\"color:#33cc33\">Correct</span>"
      ],
      "text/plain": [
       "Correct"
      ]
     },
     "metadata": {},
     "output_type": "display_data"
    }
   ],
   "source": [
    "from sklearn.ensemble import RandomForestRegressor\n",
    "from sklearn.metrics import mean_absolute_error\n",
    "\n",
    "# Define the model. Set random_state to 1\n",
    "rf_model = RandomForestRegressor(random_state=1)\n",
    "\n",
    "# fit your model\n",
    "rf_model.fit(train_X, train_y)\n",
    "rf_preds = rf_model.predict(val_X)\n",
    "# Calculate the mean absolute error of your Random Forest model on the validation data\n",
    "rf_val_mae = mean_absolute_error(val_y, rf_preds)  \n",
    "\n",
    "print(\"Validation MAE for Random Forest Model: {}\".format(rf_val_mae))\n",
    "\n",
    "# Check your answer\n",
    "step_1.check()"
   ]
  },
  {
   "cell_type": "code",
   "execution_count": 3,
   "id": "c8253888",
   "metadata": {
    "execution": {
     "iopub.execute_input": "2021-08-13T09:35:18.725662Z",
     "iopub.status.busy": "2021-08-13T09:35:18.725105Z",
     "iopub.status.idle": "2021-08-13T09:35:18.727885Z",
     "shell.execute_reply": "2021-08-13T09:35:18.727388Z"
    },
    "papermill": {
     "duration": 0.012298,
     "end_time": "2021-08-13T09:35:18.728009",
     "exception": false,
     "start_time": "2021-08-13T09:35:18.715711",
     "status": "completed"
    },
    "tags": []
   },
   "outputs": [],
   "source": [
    "# The lines below will show you a hint or the solution.\n",
    "# step_1.hint() \n",
    "# step_1.solution()\n"
   ]
  },
  {
   "cell_type": "markdown",
   "id": "3c112225",
   "metadata": {
    "papermill": {
     "duration": 0.005948,
     "end_time": "2021-08-13T09:35:18.740204",
     "exception": false,
     "start_time": "2021-08-13T09:35:18.734256",
     "status": "completed"
    },
    "tags": []
   },
   "source": [
    "So far, you have followed specific instructions at each step of your project. This helped learn key ideas and build your first model, but now you know enough to try things on your own. \n",
    "\n",
    "Machine Learning competitions are a great way to try your own ideas and learn more as you independently navigate a machine learning project. \n",
    "\n",
    "# Keep Going\n",
    "\n",
    "You are ready for **[Machine Learning Competitions](https://www.kaggle.com/alexisbcook/machine-learning-competitions).**\n"
   ]
  },
  {
   "cell_type": "markdown",
   "id": "9d934d11",
   "metadata": {
    "papermill": {
     "duration": 0.005924,
     "end_time": "2021-08-13T09:35:18.752440",
     "exception": false,
     "start_time": "2021-08-13T09:35:18.746516",
     "status": "completed"
    },
    "tags": []
   },
   "source": [
    "---\n",
    "\n",
    "\n",
    "\n",
    "\n",
    "*Have questions or comments? Visit the [Learn Discussion forum](https://www.kaggle.com/learn-forum/161285) to chat with other Learners.*"
   ]
  }
 ],
 "metadata": {
  "kernelspec": {
   "display_name": "Python 3",
   "language": "python",
   "name": "python3"
  },
  "language_info": {
   "codemirror_mode": {
    "name": "ipython",
    "version": 3
   },
   "file_extension": ".py",
   "mimetype": "text/x-python",
   "name": "python",
   "nbconvert_exporter": "python",
   "pygments_lexer": "ipython3",
   "version": "3.7.10"
  },
  "papermill": {
   "default_parameters": {},
   "duration": 9.664455,
   "end_time": "2021-08-13T09:35:19.467074",
   "environment_variables": {},
   "exception": null,
   "input_path": "__notebook__.ipynb",
   "output_path": "__notebook__.ipynb",
   "parameters": {},
   "start_time": "2021-08-13T09:35:09.802619",
   "version": "2.3.3"
  }
 },
 "nbformat": 4,
 "nbformat_minor": 5
}
