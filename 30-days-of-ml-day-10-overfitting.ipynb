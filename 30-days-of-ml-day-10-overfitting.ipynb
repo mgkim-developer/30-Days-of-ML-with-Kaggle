{
 "cells": [
  {
   "cell_type": "markdown",
   "id": "2fb05c8b",
   "metadata": {
    "papermill": {
     "duration": 0.010184,
     "end_time": "2021-08-13T08:13:37.808044",
     "exception": false,
     "start_time": "2021-08-13T08:13:37.797860",
     "status": "completed"
    },
    "tags": []
   },
   "source": [
    "**This notebook is an exercise in the [Introduction to Machine Learning](https://www.kaggle.com/learn/intro-to-machine-learning) course.  You can reference the tutorial at [this link](https://www.kaggle.com/dansbecker/underfitting-and-overfitting).**\n",
    "\n",
    "---\n"
   ]
  },
  {
   "cell_type": "markdown",
   "id": "d38b15f7",
   "metadata": {
    "papermill": {
     "duration": 0.008871,
     "end_time": "2021-08-13T08:13:37.826404",
     "exception": false,
     "start_time": "2021-08-13T08:13:37.817533",
     "status": "completed"
    },
    "tags": []
   },
   "source": [
    "## Recap\n",
    "You've built your first model, and now it's time to optimize the size of the tree to make better predictions. Run this cell to set up your coding environment where the previous step left off."
   ]
  },
  {
   "cell_type": "code",
   "execution_count": 1,
   "id": "d5e8e439",
   "metadata": {
    "execution": {
     "iopub.execute_input": "2021-08-13T08:13:37.849019Z",
     "iopub.status.busy": "2021-08-13T08:13:37.847839Z",
     "iopub.status.idle": "2021-08-13T08:13:39.128807Z",
     "shell.execute_reply": "2021-08-13T08:13:39.127901Z",
     "shell.execute_reply.started": "2021-08-13T07:40:34.482788Z"
    },
    "papermill": {
     "duration": 1.293522,
     "end_time": "2021-08-13T08:13:39.129042",
     "exception": false,
     "start_time": "2021-08-13T08:13:37.835520",
     "status": "completed"
    },
    "tags": []
   },
   "outputs": [
    {
     "name": "stdout",
     "output_type": "stream",
     "text": [
      "             LotArea    YearBuilt     1stFlrSF     2ndFlrSF     FullBath  \\\n",
      "count    1460.000000  1460.000000  1460.000000  1460.000000  1460.000000   \n",
      "mean    10516.828082  1971.267808  1162.626712   346.992466     1.565068   \n",
      "std      9981.264932    30.202904   386.587738   436.528436     0.550916   \n",
      "min      1300.000000  1872.000000   334.000000     0.000000     0.000000   \n",
      "25%      7553.500000  1954.000000   882.000000     0.000000     1.000000   \n",
      "50%      9478.500000  1973.000000  1087.000000     0.000000     2.000000   \n",
      "75%     11601.500000  2000.000000  1391.250000   728.000000     2.000000   \n",
      "max    215245.000000  2010.000000  4692.000000  2065.000000     3.000000   \n",
      "\n",
      "       BedroomAbvGr  TotRmsAbvGrd  \n",
      "count   1460.000000   1460.000000  \n",
      "mean       2.866438      6.517808  \n",
      "std        0.815778      1.625393  \n",
      "min        0.000000      2.000000  \n",
      "25%        2.000000      5.000000  \n",
      "50%        3.000000      6.000000  \n",
      "75%        3.000000      7.000000  \n",
      "max        8.000000     14.000000  \n",
      "학습셋의 shape:  (1095, 7)\n",
      "검증셋의 shape:  (365, 7)\n",
      "학습셋 label의 shape:  (1095,)\n",
      "검증셋 label의 shape:  (365,)\n",
      "Validation MAE: 29,653\n",
      "\n",
      "Setup complete\n"
     ]
    }
   ],
   "source": [
    "# Code you have previously used to load data\n",
    "import pandas as pd\n",
    "from sklearn.metrics import mean_absolute_error\n",
    "from sklearn.model_selection import train_test_split\n",
    "from sklearn.tree import DecisionTreeRegressor\n",
    "\n",
    "\n",
    "# Path of the file to read\n",
    "iowa_file_path = '../input/home-data-for-ml-course/train.csv'\n",
    "\n",
    "home_data = pd.read_csv(iowa_file_path)\n",
    "# Create target object and call it y\n",
    "y = home_data.SalePrice\n",
    "# Create X\n",
    "features = ['LotArea', 'YearBuilt', '1stFlrSF', '2ndFlrSF', 'FullBath', 'BedroomAbvGr', 'TotRmsAbvGrd']\n",
    "X = home_data[features]\n",
    "\n",
    "# Split into validation and training data\n",
    "train_X, val_X, train_y, val_y = train_test_split(X, y, test_size = 0.25, random_state=1)\n",
    "print(X.describe())\n",
    "print('학습셋의 shape: ', train_X.shape)\n",
    "print('검증셋의 shape: ', val_X.shape)\n",
    "print('학습셋 label의 shape: ', train_y.shape)\n",
    "print('검증셋 label의 shape: ',val_y.shape)\n",
    "\n",
    "\n",
    "# Specify Model\n",
    "iowa_model = DecisionTreeRegressor(random_state=1)\n",
    "# Fit Model\n",
    "iowa_model.fit(train_X, train_y)\n",
    "\n",
    "# Make validation predictions and calculate mean absolute error\n",
    "val_predictions = iowa_model.predict(val_X)\n",
    "val_mae = mean_absolute_error(val_predictions, val_y)\n",
    "print(\"Validation MAE: {:,.0f}\".format(val_mae))\n",
    "\n",
    "# Set up code checking\n",
    "from learntools.core import binder\n",
    "binder.bind(globals())\n",
    "from learntools.machine_learning.ex5 import *\n",
    "print(\"\\nSetup complete\")"
   ]
  },
  {
   "cell_type": "markdown",
   "id": "4b371c1a",
   "metadata": {
    "papermill": {
     "duration": 0.009384,
     "end_time": "2021-08-13T08:13:39.149306",
     "exception": false,
     "start_time": "2021-08-13T08:13:39.139922",
     "status": "completed"
    },
    "tags": []
   },
   "source": [
    "# Exercises\n",
    "You could write the function `get_mae` yourself. For now, we'll supply it. This is the same function you read about in the previous lesson. Just run the cell below."
   ]
  },
  {
   "cell_type": "code",
   "execution_count": 2,
   "id": "dd20c0d0",
   "metadata": {
    "execution": {
     "iopub.execute_input": "2021-08-13T08:13:39.174455Z",
     "iopub.status.busy": "2021-08-13T08:13:39.173789Z",
     "iopub.status.idle": "2021-08-13T08:13:39.175810Z",
     "shell.execute_reply": "2021-08-13T08:13:39.176281Z",
     "shell.execute_reply.started": "2021-08-13T07:57:52.980059Z"
    },
    "papermill": {
     "duration": 0.017628,
     "end_time": "2021-08-13T08:13:39.176469",
     "exception": false,
     "start_time": "2021-08-13T08:13:39.158841",
     "status": "completed"
    },
    "tags": []
   },
   "outputs": [],
   "source": [
    "def get_mae(max_leaf_nodes, train_X, val_X, train_y, val_y):\n",
    "    model = DecisionTreeRegressor(max_leaf_nodes=max_leaf_nodes, random_state=0)\n",
    "    model.fit(train_X, train_y)\n",
    "    preds_val = model.predict(val_X)\n",
    "    mae = mean_absolute_error(val_y, preds_val)\n",
    "    return(mae)"
   ]
  },
  {
   "cell_type": "markdown",
   "id": "59aa7876",
   "metadata": {
    "papermill": {
     "duration": 0.009291,
     "end_time": "2021-08-13T08:13:39.195691",
     "exception": false,
     "start_time": "2021-08-13T08:13:39.186400",
     "status": "completed"
    },
    "tags": []
   },
   "source": [
    "## Step 1: Compare Different Tree Sizes\n",
    "Write a loop that tries the following values for *max_leaf_nodes* from a set of possible values.\n",
    "\n",
    "Call the *get_mae* function on each value of max_leaf_nodes. Store the output in some way that allows you to select the value of `max_leaf_nodes` that gives the most accurate model on your data."
   ]
  },
  {
   "cell_type": "code",
   "execution_count": 3,
   "id": "862f0141",
   "metadata": {
    "execution": {
     "iopub.execute_input": "2021-08-13T08:13:39.218447Z",
     "iopub.status.busy": "2021-08-13T08:13:39.217751Z",
     "iopub.status.idle": "2021-08-13T08:13:39.274585Z",
     "shell.execute_reply": "2021-08-13T08:13:39.275283Z",
     "shell.execute_reply.started": "2021-08-13T08:04:46.805715Z"
    },
    "papermill": {
     "duration": 0.069744,
     "end_time": "2021-08-13T08:13:39.275498",
     "exception": false,
     "start_time": "2021-08-13T08:13:39.205754",
     "status": "completed"
    },
    "tags": []
   },
   "outputs": [
    {
     "name": "stdout",
     "output_type": "stream",
     "text": [
      "Max leaf nodes: 5 \t\t Mean Absolute Error: 35044\n",
      "Max leaf nodes: 25 \t\t Mean Absolute Error: 29016\n",
      "Max leaf nodes: 50 \t\t Mean Absolute Error: 27405\n",
      "Max leaf nodes: 100 \t\t Mean Absolute Error: 27282\n",
      "Max leaf nodes: 250 \t\t Mean Absolute Error: 27893\n",
      "Max leaf nodes: 500 \t\t Mean Absolute Error: 29454\n"
     ]
    },
    {
     "data": {
      "application/javascript": [
       "parent.postMessage({\"jupyterEvent\": \"custom.exercise_interaction\", \"data\": {\"outcomeType\": 1, \"valueTowardsCompletion\": 0.5, \"interactionType\": 1, \"questionType\": 1, \"questionId\": \"1_BestTreeSize\", \"learnToolsVersion\": \"0.3.4\", \"failureMessage\": \"\", \"exceptionClass\": \"\", \"trace\": \"\"}}, \"*\")"
      ],
      "text/plain": [
       "<IPython.core.display.Javascript object>"
      ]
     },
     "metadata": {},
     "output_type": "display_data"
    },
    {
     "data": {
      "text/markdown": [
       "<span style=\"color:#33cc33\">Correct</span>"
      ],
      "text/plain": [
       "Correct"
      ]
     },
     "metadata": {},
     "output_type": "display_data"
    }
   ],
   "source": [
    "candidate_max_leaf_nodes = [5, 25, 50, 100, 250, 500]\n",
    "# Write loop to find the ideal tree size from candidate_max_leaf_nodes\n",
    "for max_leaf_nodes in candidate_max_leaf_nodes:\n",
    "    my_mae = get_mae(max_leaf_nodes, train_X, val_X, train_y, val_y)\n",
    "    print(\"Max leaf nodes: %d \\t\\t Mean Absolute Error: %d\" %(max_leaf_nodes, my_mae))\n",
    "\n",
    "# Store the best value of max_leaf_nodes (it will be either 5, 25, 50, 100, 250 or 500)\n",
    "best_tree_size = 100\n",
    "\n",
    "# Check your answer\n",
    "step_1.check()"
   ]
  },
  {
   "cell_type": "code",
   "execution_count": 4,
   "id": "51994f4c",
   "metadata": {
    "execution": {
     "iopub.execute_input": "2021-08-13T08:13:39.302611Z",
     "iopub.status.busy": "2021-08-13T08:13:39.301927Z",
     "iopub.status.idle": "2021-08-13T08:13:39.303789Z",
     "shell.execute_reply": "2021-08-13T08:13:39.304279Z"
    },
    "papermill": {
     "duration": 0.017418,
     "end_time": "2021-08-13T08:13:39.304434",
     "exception": false,
     "start_time": "2021-08-13T08:13:39.287016",
     "status": "completed"
    },
    "tags": []
   },
   "outputs": [],
   "source": [
    "# The lines below will show you a hint or the solution.\n",
    "# step_1.hint() \n",
    "# step_1.solution()"
   ]
  },
  {
   "cell_type": "markdown",
   "id": "772599c2",
   "metadata": {
    "papermill": {
     "duration": 0.011067,
     "end_time": "2021-08-13T08:13:39.326528",
     "exception": false,
     "start_time": "2021-08-13T08:13:39.315461",
     "status": "completed"
    },
    "tags": []
   },
   "source": [
    "## Step 2: Fit Model Using All Data\n",
    "You know the best tree size. If you were going to deploy this model in practice, you would make it even more accurate by using all of the data and keeping that tree size.  That is, you don't need to hold out the validation data now that you've made all your modeling decisions."
   ]
  },
  {
   "cell_type": "code",
   "execution_count": 5,
   "id": "2d4fb7ea",
   "metadata": {
    "execution": {
     "iopub.execute_input": "2021-08-13T08:13:39.351896Z",
     "iopub.status.busy": "2021-08-13T08:13:39.351271Z",
     "iopub.status.idle": "2021-08-13T08:13:39.366527Z",
     "shell.execute_reply": "2021-08-13T08:13:39.367042Z",
     "shell.execute_reply.started": "2021-08-13T08:12:47.388876Z"
    },
    "papermill": {
     "duration": 0.029587,
     "end_time": "2021-08-13T08:13:39.367273",
     "exception": false,
     "start_time": "2021-08-13T08:13:39.337686",
     "status": "completed"
    },
    "tags": []
   },
   "outputs": [
    {
     "data": {
      "application/javascript": [
       "parent.postMessage({\"jupyterEvent\": \"custom.exercise_interaction\", \"data\": {\"outcomeType\": 1, \"valueTowardsCompletion\": 0.5, \"interactionType\": 1, \"questionType\": 2, \"questionId\": \"2_FitModelWithAllData\", \"learnToolsVersion\": \"0.3.4\", \"failureMessage\": \"\", \"exceptionClass\": \"\", \"trace\": \"\"}}, \"*\")"
      ],
      "text/plain": [
       "<IPython.core.display.Javascript object>"
      ]
     },
     "metadata": {},
     "output_type": "display_data"
    },
    {
     "data": {
      "text/markdown": [
       "<span style=\"color:#33cc33\">Correct</span>"
      ],
      "text/plain": [
       "Correct"
      ]
     },
     "metadata": {},
     "output_type": "display_data"
    }
   ],
   "source": [
    "# Fill in argument to make optimal size and uncomment\n",
    "final_model = DecisionTreeRegressor(max_leaf_nodes=best_tree_size, random_state = 1)\n",
    "\n",
    "# fit the final model and uncomment the next two lines\n",
    "final_model.fit(X, y)\n",
    "\n",
    "# Check your answer\n",
    "step_2.check()"
   ]
  },
  {
   "cell_type": "code",
   "execution_count": 6,
   "id": "adff3219",
   "metadata": {
    "execution": {
     "iopub.execute_input": "2021-08-13T08:13:39.394920Z",
     "iopub.status.busy": "2021-08-13T08:13:39.394325Z",
     "iopub.status.idle": "2021-08-13T08:13:39.397124Z",
     "shell.execute_reply": "2021-08-13T08:13:39.397610Z",
     "shell.execute_reply.started": "2021-08-13T08:12:50.134717Z"
    },
    "papermill": {
     "duration": 0.018224,
     "end_time": "2021-08-13T08:13:39.397802",
     "exception": false,
     "start_time": "2021-08-13T08:13:39.379578",
     "status": "completed"
    },
    "tags": []
   },
   "outputs": [],
   "source": [
    "# step_2.hint()\n",
    "# step_2.solution()"
   ]
  },
  {
   "cell_type": "markdown",
   "id": "fc6d9179",
   "metadata": {
    "papermill": {
     "duration": 0.012368,
     "end_time": "2021-08-13T08:13:39.422567",
     "exception": false,
     "start_time": "2021-08-13T08:13:39.410199",
     "status": "completed"
    },
    "tags": []
   },
   "source": [
    "You've tuned this model and improved your results. But we are still using Decision Tree models, which are not very sophisticated by modern machine learning standards. In the next step you will learn to use Random Forests to improve your models even more.\n",
    "\n",
    "# Keep Going\n",
    "\n",
    "You are ready for **[Random Forests](https://www.kaggle.com/dansbecker/random-forests).**\n"
   ]
  },
  {
   "cell_type": "markdown",
   "id": "76f39f9c",
   "metadata": {
    "papermill": {
     "duration": 0.011901,
     "end_time": "2021-08-13T08:13:39.446838",
     "exception": false,
     "start_time": "2021-08-13T08:13:39.434937",
     "status": "completed"
    },
    "tags": []
   },
   "source": [
    "---\n",
    "\n",
    "\n",
    "\n",
    "\n",
    "*Have questions or comments? Visit the [Learn Discussion forum](https://www.kaggle.com/learn-forum/161285) to chat with other Learners.*"
   ]
  }
 ],
 "metadata": {
  "kernelspec": {
   "display_name": "Python 3",
   "language": "python",
   "name": "python3"
  },
  "language_info": {
   "codemirror_mode": {
    "name": "ipython",
    "version": 3
   },
   "file_extension": ".py",
   "mimetype": "text/x-python",
   "name": "python",
   "nbconvert_exporter": "python",
   "pygments_lexer": "ipython3",
   "version": "3.7.10"
  },
  "papermill": {
   "default_parameters": {},
   "duration": 10.728229,
   "end_time": "2021-08-13T08:13:40.724461",
   "environment_variables": {},
   "exception": null,
   "input_path": "__notebook__.ipynb",
   "output_path": "__notebook__.ipynb",
   "parameters": {},
   "start_time": "2021-08-13T08:13:29.996232",
   "version": "2.3.3"
  }
 },
 "nbformat": 4,
 "nbformat_minor": 5
}
