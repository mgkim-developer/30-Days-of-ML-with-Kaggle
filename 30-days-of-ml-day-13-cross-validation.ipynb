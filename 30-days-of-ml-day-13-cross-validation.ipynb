{
 "cells": [
  {
   "cell_type": "markdown",
   "id": "9d48ed50",
   "metadata": {
    "papermill": {
     "duration": 0.022957,
     "end_time": "2021-08-18T18:28:48.756754",
     "exception": false,
     "start_time": "2021-08-18T18:28:48.733797",
     "status": "completed"
    },
    "tags": []
   },
   "source": [
    "**This notebook is an exercise in the [Intermediate Machine Learning](https://www.kaggle.com/learn/intermediate-machine-learning) course.  You can reference the tutorial at [this link](https://www.kaggle.com/alexisbcook/cross-validation).**\n",
    "\n",
    "---\n"
   ]
  },
  {
   "cell_type": "markdown",
   "id": "5319fb64",
   "metadata": {
    "papermill": {
     "duration": 0.020564,
     "end_time": "2021-08-18T18:28:48.798382",
     "exception": false,
     "start_time": "2021-08-18T18:28:48.777818",
     "status": "completed"
    },
    "tags": []
   },
   "source": [
    "In this exercise, you will leverage what you've learned to tune a machine learning model with **cross-validation**.\n",
    "\n",
    "# Setup\n",
    "\n",
    "The questions below will give you feedback on your work. Run the following cell to set up the feedback system."
   ]
  },
  {
   "cell_type": "code",
   "execution_count": 1,
   "id": "8e014aa1",
   "metadata": {
    "execution": {
     "iopub.execute_input": "2021-08-18T18:28:48.844426Z",
     "iopub.status.busy": "2021-08-18T18:28:48.843111Z",
     "iopub.status.idle": "2021-08-18T18:28:48.987901Z",
     "shell.execute_reply": "2021-08-18T18:28:48.988626Z",
     "shell.execute_reply.started": "2021-08-18T18:26:37.555641Z"
    },
    "papermill": {
     "duration": 0.169634,
     "end_time": "2021-08-18T18:28:48.989013",
     "exception": false,
     "start_time": "2021-08-18T18:28:48.819379",
     "status": "completed"
    },
    "tags": []
   },
   "outputs": [
    {
     "name": "stdout",
     "output_type": "stream",
     "text": [
      "Setup Complete\n"
     ]
    }
   ],
   "source": [
    "# Set up code checking\n",
    "import os\n",
    "if not os.path.exists(\"../input/train.csv\"):\n",
    "    os.symlink(\"../input/home-data-for-ml-course/train.csv\", \"../input/train.csv\")  \n",
    "    os.symlink(\"../input/home-data-for-ml-course/test.csv\", \"../input/test.csv\") \n",
    "from learntools.core import binder\n",
    "binder.bind(globals())\n",
    "from learntools.ml_intermediate.ex5 import *\n",
    "print(\"Setup Complete\")"
   ]
  },
  {
   "cell_type": "markdown",
   "id": "12335907",
   "metadata": {
    "papermill": {
     "duration": 0.020691,
     "end_time": "2021-08-18T18:28:49.032547",
     "exception": false,
     "start_time": "2021-08-18T18:28:49.011856",
     "status": "completed"
    },
    "tags": []
   },
   "source": [
    "You will work with the [Housing Prices Competition for Kaggle Learn Users](https://www.kaggle.com/c/home-data-for-ml-course) from the previous exercise. \n",
    "\n",
    "![Ames Housing dataset image](https://i.imgur.com/lTJVG4e.png)\n",
    "\n",
    "Run the next code cell without changes to load the training and test data in `X` and `X_test`.  For simplicity, we drop categorical variables."
   ]
  },
  {
   "cell_type": "code",
   "execution_count": 2,
   "id": "a1d2c69e",
   "metadata": {
    "execution": {
     "iopub.execute_input": "2021-08-18T18:28:49.082901Z",
     "iopub.status.busy": "2021-08-18T18:28:49.082186Z",
     "iopub.status.idle": "2021-08-18T18:28:50.222941Z",
     "shell.execute_reply": "2021-08-18T18:28:50.223921Z",
     "shell.execute_reply.started": "2021-08-18T18:26:37.568374Z"
    },
    "papermill": {
     "duration": 1.170588,
     "end_time": "2021-08-18T18:28:50.224159",
     "exception": false,
     "start_time": "2021-08-18T18:28:49.053571",
     "status": "completed"
    },
    "tags": []
   },
   "outputs": [],
   "source": [
    "import pandas as pd\n",
    "from sklearn.model_selection import train_test_split\n",
    "\n",
    "# Read the data\n",
    "train_data = pd.read_csv('../input/train.csv', index_col='Id')\n",
    "test_data = pd.read_csv('../input/test.csv', index_col='Id')\n",
    "\n",
    "# Remove rows with missing target, separate target from predictors\n",
    "train_data.dropna(axis=0, subset=['SalePrice'], inplace=True)\n",
    "y = train_data.SalePrice              \n",
    "train_data.drop(['SalePrice'], axis=1, inplace=True)\n",
    "\n",
    "# Select numeric columns only\n",
    "numeric_cols = [cname for cname in train_data.columns if train_data[cname].dtype in ['int64', 'float64']]\n",
    "X = train_data[numeric_cols].copy()\n",
    "X_test = test_data[numeric_cols].copy()"
   ]
  },
  {
   "cell_type": "markdown",
   "id": "4e669297",
   "metadata": {
    "papermill": {
     "duration": 0.033024,
     "end_time": "2021-08-18T18:28:50.290506",
     "exception": false,
     "start_time": "2021-08-18T18:28:50.257482",
     "status": "completed"
    },
    "tags": []
   },
   "source": [
    "Use the next code cell to print the first several rows of the data."
   ]
  },
  {
   "cell_type": "code",
   "execution_count": 3,
   "id": "73330a02",
   "metadata": {
    "execution": {
     "iopub.execute_input": "2021-08-18T18:28:50.349479Z",
     "iopub.status.busy": "2021-08-18T18:28:50.348503Z",
     "iopub.status.idle": "2021-08-18T18:28:50.387421Z",
     "shell.execute_reply": "2021-08-18T18:28:50.387973Z",
     "shell.execute_reply.started": "2021-08-18T18:26:37.652208Z"
    },
    "papermill": {
     "duration": 0.070596,
     "end_time": "2021-08-18T18:28:50.388141",
     "exception": false,
     "start_time": "2021-08-18T18:28:50.317545",
     "status": "completed"
    },
    "tags": []
   },
   "outputs": [
    {
     "data": {
      "text/html": [
       "<div>\n",
       "<style scoped>\n",
       "    .dataframe tbody tr th:only-of-type {\n",
       "        vertical-align: middle;\n",
       "    }\n",
       "\n",
       "    .dataframe tbody tr th {\n",
       "        vertical-align: top;\n",
       "    }\n",
       "\n",
       "    .dataframe thead th {\n",
       "        text-align: right;\n",
       "    }\n",
       "</style>\n",
       "<table border=\"1\" class=\"dataframe\">\n",
       "  <thead>\n",
       "    <tr style=\"text-align: right;\">\n",
       "      <th></th>\n",
       "      <th>MSSubClass</th>\n",
       "      <th>LotFrontage</th>\n",
       "      <th>LotArea</th>\n",
       "      <th>OverallQual</th>\n",
       "      <th>OverallCond</th>\n",
       "      <th>YearBuilt</th>\n",
       "      <th>YearRemodAdd</th>\n",
       "      <th>MasVnrArea</th>\n",
       "      <th>BsmtFinSF1</th>\n",
       "      <th>BsmtFinSF2</th>\n",
       "      <th>...</th>\n",
       "      <th>GarageArea</th>\n",
       "      <th>WoodDeckSF</th>\n",
       "      <th>OpenPorchSF</th>\n",
       "      <th>EnclosedPorch</th>\n",
       "      <th>3SsnPorch</th>\n",
       "      <th>ScreenPorch</th>\n",
       "      <th>PoolArea</th>\n",
       "      <th>MiscVal</th>\n",
       "      <th>MoSold</th>\n",
       "      <th>YrSold</th>\n",
       "    </tr>\n",
       "    <tr>\n",
       "      <th>Id</th>\n",
       "      <th></th>\n",
       "      <th></th>\n",
       "      <th></th>\n",
       "      <th></th>\n",
       "      <th></th>\n",
       "      <th></th>\n",
       "      <th></th>\n",
       "      <th></th>\n",
       "      <th></th>\n",
       "      <th></th>\n",
       "      <th></th>\n",
       "      <th></th>\n",
       "      <th></th>\n",
       "      <th></th>\n",
       "      <th></th>\n",
       "      <th></th>\n",
       "      <th></th>\n",
       "      <th></th>\n",
       "      <th></th>\n",
       "      <th></th>\n",
       "      <th></th>\n",
       "    </tr>\n",
       "  </thead>\n",
       "  <tbody>\n",
       "    <tr>\n",
       "      <th>1</th>\n",
       "      <td>60</td>\n",
       "      <td>65.0</td>\n",
       "      <td>8450</td>\n",
       "      <td>7</td>\n",
       "      <td>5</td>\n",
       "      <td>2003</td>\n",
       "      <td>2003</td>\n",
       "      <td>196.0</td>\n",
       "      <td>706</td>\n",
       "      <td>0</td>\n",
       "      <td>...</td>\n",
       "      <td>548</td>\n",
       "      <td>0</td>\n",
       "      <td>61</td>\n",
       "      <td>0</td>\n",
       "      <td>0</td>\n",
       "      <td>0</td>\n",
       "      <td>0</td>\n",
       "      <td>0</td>\n",
       "      <td>2</td>\n",
       "      <td>2008</td>\n",
       "    </tr>\n",
       "    <tr>\n",
       "      <th>2</th>\n",
       "      <td>20</td>\n",
       "      <td>80.0</td>\n",
       "      <td>9600</td>\n",
       "      <td>6</td>\n",
       "      <td>8</td>\n",
       "      <td>1976</td>\n",
       "      <td>1976</td>\n",
       "      <td>0.0</td>\n",
       "      <td>978</td>\n",
       "      <td>0</td>\n",
       "      <td>...</td>\n",
       "      <td>460</td>\n",
       "      <td>298</td>\n",
       "      <td>0</td>\n",
       "      <td>0</td>\n",
       "      <td>0</td>\n",
       "      <td>0</td>\n",
       "      <td>0</td>\n",
       "      <td>0</td>\n",
       "      <td>5</td>\n",
       "      <td>2007</td>\n",
       "    </tr>\n",
       "    <tr>\n",
       "      <th>3</th>\n",
       "      <td>60</td>\n",
       "      <td>68.0</td>\n",
       "      <td>11250</td>\n",
       "      <td>7</td>\n",
       "      <td>5</td>\n",
       "      <td>2001</td>\n",
       "      <td>2002</td>\n",
       "      <td>162.0</td>\n",
       "      <td>486</td>\n",
       "      <td>0</td>\n",
       "      <td>...</td>\n",
       "      <td>608</td>\n",
       "      <td>0</td>\n",
       "      <td>42</td>\n",
       "      <td>0</td>\n",
       "      <td>0</td>\n",
       "      <td>0</td>\n",
       "      <td>0</td>\n",
       "      <td>0</td>\n",
       "      <td>9</td>\n",
       "      <td>2008</td>\n",
       "    </tr>\n",
       "    <tr>\n",
       "      <th>4</th>\n",
       "      <td>70</td>\n",
       "      <td>60.0</td>\n",
       "      <td>9550</td>\n",
       "      <td>7</td>\n",
       "      <td>5</td>\n",
       "      <td>1915</td>\n",
       "      <td>1970</td>\n",
       "      <td>0.0</td>\n",
       "      <td>216</td>\n",
       "      <td>0</td>\n",
       "      <td>...</td>\n",
       "      <td>642</td>\n",
       "      <td>0</td>\n",
       "      <td>35</td>\n",
       "      <td>272</td>\n",
       "      <td>0</td>\n",
       "      <td>0</td>\n",
       "      <td>0</td>\n",
       "      <td>0</td>\n",
       "      <td>2</td>\n",
       "      <td>2006</td>\n",
       "    </tr>\n",
       "    <tr>\n",
       "      <th>5</th>\n",
       "      <td>60</td>\n",
       "      <td>84.0</td>\n",
       "      <td>14260</td>\n",
       "      <td>8</td>\n",
       "      <td>5</td>\n",
       "      <td>2000</td>\n",
       "      <td>2000</td>\n",
       "      <td>350.0</td>\n",
       "      <td>655</td>\n",
       "      <td>0</td>\n",
       "      <td>...</td>\n",
       "      <td>836</td>\n",
       "      <td>192</td>\n",
       "      <td>84</td>\n",
       "      <td>0</td>\n",
       "      <td>0</td>\n",
       "      <td>0</td>\n",
       "      <td>0</td>\n",
       "      <td>0</td>\n",
       "      <td>12</td>\n",
       "      <td>2008</td>\n",
       "    </tr>\n",
       "  </tbody>\n",
       "</table>\n",
       "<p>5 rows × 36 columns</p>\n",
       "</div>"
      ],
      "text/plain": [
       "    MSSubClass  LotFrontage  LotArea  OverallQual  OverallCond  YearBuilt  \\\n",
       "Id                                                                          \n",
       "1           60         65.0     8450            7            5       2003   \n",
       "2           20         80.0     9600            6            8       1976   \n",
       "3           60         68.0    11250            7            5       2001   \n",
       "4           70         60.0     9550            7            5       1915   \n",
       "5           60         84.0    14260            8            5       2000   \n",
       "\n",
       "    YearRemodAdd  MasVnrArea  BsmtFinSF1  BsmtFinSF2  ...  GarageArea  \\\n",
       "Id                                                    ...               \n",
       "1           2003       196.0         706           0  ...         548   \n",
       "2           1976         0.0         978           0  ...         460   \n",
       "3           2002       162.0         486           0  ...         608   \n",
       "4           1970         0.0         216           0  ...         642   \n",
       "5           2000       350.0         655           0  ...         836   \n",
       "\n",
       "    WoodDeckSF  OpenPorchSF  EnclosedPorch  3SsnPorch  ScreenPorch  PoolArea  \\\n",
       "Id                                                                             \n",
       "1            0           61              0          0            0         0   \n",
       "2          298            0              0          0            0         0   \n",
       "3            0           42              0          0            0         0   \n",
       "4            0           35            272          0            0         0   \n",
       "5          192           84              0          0            0         0   \n",
       "\n",
       "    MiscVal  MoSold  YrSold  \n",
       "Id                           \n",
       "1         0       2    2008  \n",
       "2         0       5    2007  \n",
       "3         0       9    2008  \n",
       "4         0       2    2006  \n",
       "5         0      12    2008  \n",
       "\n",
       "[5 rows x 36 columns]"
      ]
     },
     "execution_count": 3,
     "metadata": {},
     "output_type": "execute_result"
    }
   ],
   "source": [
    "X.head()"
   ]
  },
  {
   "cell_type": "markdown",
   "id": "f5c32637",
   "metadata": {
    "papermill": {
     "duration": 0.031692,
     "end_time": "2021-08-18T18:28:50.444538",
     "exception": false,
     "start_time": "2021-08-18T18:28:50.412846",
     "status": "completed"
    },
    "tags": []
   },
   "source": [
    "So far, you've learned how to build pipelines with scikit-learn.  For instance, the pipeline below will use [`SimpleImputer()`](https://scikit-learn.org/stable/modules/generated/sklearn.impute.SimpleImputer.html) to replace missing values in the data, before using [`RandomForestRegressor()`](https://scikit-learn.org/stable/modules/generated/sklearn.ensemble.RandomForestRegressor.html) to train a random forest model to make predictions.  We set the number of trees in the random forest model with the `n_estimators` parameter, and setting `random_state` ensures reproducibility."
   ]
  },
  {
   "cell_type": "code",
   "execution_count": 4,
   "id": "bf3f9e14",
   "metadata": {
    "execution": {
     "iopub.execute_input": "2021-08-18T18:28:50.494082Z",
     "iopub.status.busy": "2021-08-18T18:28:50.493120Z",
     "iopub.status.idle": "2021-08-18T18:28:50.712905Z",
     "shell.execute_reply": "2021-08-18T18:28:50.712043Z",
     "shell.execute_reply.started": "2021-08-18T18:26:37.680472Z"
    },
    "papermill": {
     "duration": 0.245737,
     "end_time": "2021-08-18T18:28:50.713291",
     "exception": false,
     "start_time": "2021-08-18T18:28:50.467554",
     "status": "completed"
    },
    "tags": []
   },
   "outputs": [],
   "source": [
    "from sklearn.ensemble import RandomForestRegressor\n",
    "from sklearn.pipeline import Pipeline\n",
    "from sklearn.impute import SimpleImputer\n",
    "\n",
    "my_pipeline = Pipeline(steps=[\n",
    "    ('preprocessor', SimpleImputer()),\n",
    "    ('model', RandomForestRegressor(n_estimators=50, random_state=0))\n",
    "])"
   ]
  },
  {
   "cell_type": "markdown",
   "id": "a9cbb38a",
   "metadata": {
    "papermill": {
     "duration": 0.021907,
     "end_time": "2021-08-18T18:28:50.762600",
     "exception": false,
     "start_time": "2021-08-18T18:28:50.740693",
     "status": "completed"
    },
    "tags": []
   },
   "source": [
    "You have also learned how to use pipelines in cross-validation.  The code below uses the [`cross_val_score()`](https://scikit-learn.org/stable/modules/generated/sklearn.model_selection.cross_val_score.html) function to obtain the mean absolute error (MAE), averaged across five different folds.  Recall we set the number of folds with the `cv` parameter."
   ]
  },
  {
   "cell_type": "code",
   "execution_count": 5,
   "id": "e8647d29",
   "metadata": {
    "execution": {
     "iopub.execute_input": "2021-08-18T18:28:50.814115Z",
     "iopub.status.busy": "2021-08-18T18:28:50.813113Z",
     "iopub.status.idle": "2021-08-18T18:28:54.300611Z",
     "shell.execute_reply": "2021-08-18T18:28:54.299741Z",
     "shell.execute_reply.started": "2021-08-18T18:26:37.691203Z"
    },
    "papermill": {
     "duration": 3.516721,
     "end_time": "2021-08-18T18:28:54.300840",
     "exception": false,
     "start_time": "2021-08-18T18:28:50.784119",
     "status": "completed"
    },
    "tags": []
   },
   "outputs": [
    {
     "name": "stdout",
     "output_type": "stream",
     "text": [
      "MAE scores:\n",
      " [18549.88568493 17896.67034247 18462.68472603 16587.02472603\n",
      " 19885.78630137]\n",
      "Average MAE score: 18276.410356164386\n"
     ]
    }
   ],
   "source": [
    "from sklearn.model_selection import cross_val_score\n",
    "\n",
    "# Multiply by -1 since sklearn calculates *negative* MAE\n",
    "scores = -1 * cross_val_score(my_pipeline, X, y,\n",
    "                              cv=5,\n",
    "                              scoring='neg_mean_absolute_error')\n",
    "print(\"MAE scores:\\n\", scores)\n",
    "print(\"Average MAE score:\", scores.mean())"
   ]
  },
  {
   "cell_type": "markdown",
   "id": "c41a9707",
   "metadata": {
    "papermill": {
     "duration": 0.023447,
     "end_time": "2021-08-18T18:28:54.347915",
     "exception": false,
     "start_time": "2021-08-18T18:28:54.324468",
     "status": "completed"
    },
    "tags": []
   },
   "source": [
    "# Step 1: Write a useful function\n",
    "\n",
    "In this exercise, you'll use cross-validation to select parameters for a machine learning model.\n",
    "\n",
    "Begin by writing a function `get_score()` that reports the average (over three cross-validation folds) MAE of a machine learning pipeline that uses:\n",
    "- the data in `X` and `y` to create folds,\n",
    "- `SimpleImputer()` (with all parameters left as default) to replace missing values, and\n",
    "- `RandomForestRegressor()` (with `random_state=0`) to fit a random forest model.\n",
    "\n",
    "The `n_estimators` parameter supplied to `get_score()` is used when setting the number of trees in the random forest model.  "
   ]
  },
  {
   "cell_type": "code",
   "execution_count": 6,
   "id": "f9e830c5",
   "metadata": {
    "execution": {
     "iopub.execute_input": "2021-08-18T18:28:54.402070Z",
     "iopub.status.busy": "2021-08-18T18:28:54.400959Z",
     "iopub.status.idle": "2021-08-18T18:28:55.574574Z",
     "shell.execute_reply": "2021-08-18T18:28:55.574012Z",
     "shell.execute_reply.started": "2021-08-18T18:26:41.194240Z"
    },
    "papermill": {
     "duration": 1.203957,
     "end_time": "2021-08-18T18:28:55.574723",
     "exception": false,
     "start_time": "2021-08-18T18:28:54.370766",
     "status": "completed"
    },
    "tags": []
   },
   "outputs": [
    {
     "data": {
      "application/javascript": [
       "parent.postMessage({\"jupyterEvent\": \"custom.exercise_interaction\", \"data\": {\"outcomeType\": 1, \"valueTowardsCompletion\": 0.3333333333333333, \"interactionType\": 1, \"questionType\": 2, \"questionId\": \"1_GetScore\", \"learnToolsVersion\": \"0.3.4\", \"failureMessage\": \"\", \"exceptionClass\": \"\", \"trace\": \"\"}}, \"*\")"
      ],
      "text/plain": [
       "<IPython.core.display.Javascript object>"
      ]
     },
     "metadata": {},
     "output_type": "display_data"
    },
    {
     "data": {
      "text/markdown": [
       "<span style=\"color:#33cc33\">Correct</span>"
      ],
      "text/plain": [
       "Correct"
      ]
     },
     "metadata": {},
     "output_type": "display_data"
    }
   ],
   "source": [
    "def get_score(n_estimators):\n",
    "    \"\"\"Return the average MAE over 3 CV folds of random forest model.\n",
    "    \n",
    "    Keyword argument:\n",
    "    n_estimators -- the number of trees in the forest\n",
    "    \"\"\"\n",
    "    # Replace this body with your own code\n",
    "    my_pipeline = Pipeline(steps=[\n",
    "    ('preprocessor', SimpleImputer()),\n",
    "    ('model', RandomForestRegressor(n_estimators, random_state=0))\n",
    "    ])\n",
    "    scores = -1 * cross_val_score(my_pipeline, X, y,\n",
    "                              cv=3,\n",
    "                              scoring='neg_mean_absolute_error')\n",
    "    return scores.mean()\n",
    "# Check your answer\n",
    "step_1.check()"
   ]
  },
  {
   "cell_type": "code",
   "execution_count": 7,
   "id": "43b29e43",
   "metadata": {
    "execution": {
     "iopub.execute_input": "2021-08-18T18:28:55.627401Z",
     "iopub.status.busy": "2021-08-18T18:28:55.626441Z",
     "iopub.status.idle": "2021-08-18T18:28:55.629505Z",
     "shell.execute_reply": "2021-08-18T18:28:55.628903Z",
     "shell.execute_reply.started": "2021-08-18T18:26:42.349070Z"
    },
    "papermill": {
     "duration": 0.03103,
     "end_time": "2021-08-18T18:28:55.629655",
     "exception": false,
     "start_time": "2021-08-18T18:28:55.598625",
     "status": "completed"
    },
    "tags": []
   },
   "outputs": [],
   "source": [
    "# Lines below will give you a hint or solution code\n",
    "#step_1.hint()\n",
    "# step_1.solution()"
   ]
  },
  {
   "cell_type": "markdown",
   "id": "dd898e0c",
   "metadata": {
    "papermill": {
     "duration": 0.023659,
     "end_time": "2021-08-18T18:28:55.677368",
     "exception": false,
     "start_time": "2021-08-18T18:28:55.653709",
     "status": "completed"
    },
    "tags": []
   },
   "source": [
    "# Step 2: Test different parameter values\n",
    "\n",
    "Now, you will use the function that you defined in Step 1 to evaluate the model performance corresponding to eight different values for the number of trees in the random forest: 50, 100, 150, ..., 300, 350, 400.\n",
    "\n",
    "Store your results in a Python dictionary `results`, where `results[i]` is the average MAE returned by `get_score(i)`."
   ]
  },
  {
   "cell_type": "code",
   "execution_count": 8,
   "id": "4cce0352",
   "metadata": {
    "execution": {
     "iopub.execute_input": "2021-08-18T18:28:55.731283Z",
     "iopub.status.busy": "2021-08-18T18:28:55.730480Z",
     "iopub.status.idle": "2021-08-18T18:29:58.560986Z",
     "shell.execute_reply": "2021-08-18T18:29:58.560072Z",
     "shell.execute_reply.started": "2021-08-18T18:26:42.354717Z"
    },
    "papermill": {
     "duration": 62.859866,
     "end_time": "2021-08-18T18:29:58.561162",
     "exception": false,
     "start_time": "2021-08-18T18:28:55.701296",
     "status": "completed"
    },
    "tags": []
   },
   "outputs": [
    {
     "name": "stdout",
     "output_type": "stream",
     "text": [
      "{50: 18353.8393511688}\n",
      "{50: 18353.8393511688, 100: 18395.2151680032}\n",
      "{50: 18353.8393511688, 100: 18395.2151680032, 150: 18288.730020956387}\n",
      "{50: 18353.8393511688, 100: 18395.2151680032, 150: 18288.730020956387, 200: 18248.345889801505}\n",
      "{50: 18353.8393511688, 100: 18395.2151680032, 150: 18288.730020956387, 200: 18248.345889801505, 250: 18255.26922247291}\n",
      "{50: 18353.8393511688, 100: 18395.2151680032, 150: 18288.730020956387, 200: 18248.345889801505, 250: 18255.26922247291, 300: 18275.241922621914}\n",
      "{50: 18353.8393511688, 100: 18395.2151680032, 150: 18288.730020956387, 200: 18248.345889801505, 250: 18255.26922247291, 300: 18275.241922621914, 350: 18270.29183308043}\n",
      "{50: 18353.8393511688, 100: 18395.2151680032, 150: 18288.730020956387, 200: 18248.345889801505, 250: 18255.26922247291, 300: 18275.241922621914, 350: 18270.29183308043, 400: 18270.197974402367}\n"
     ]
    },
    {
     "data": {
      "application/javascript": [
       "parent.postMessage({\"jupyterEvent\": \"custom.exercise_interaction\", \"data\": {\"outcomeType\": 1, \"valueTowardsCompletion\": 0.3333333333333333, \"interactionType\": 1, \"questionType\": 2, \"questionId\": \"2_GetDict\", \"learnToolsVersion\": \"0.3.4\", \"failureMessage\": \"\", \"exceptionClass\": \"\", \"trace\": \"\"}}, \"*\")"
      ],
      "text/plain": [
       "<IPython.core.display.Javascript object>"
      ]
     },
     "metadata": {},
     "output_type": "display_data"
    },
    {
     "data": {
      "text/markdown": [
       "<span style=\"color:#33cc33\">Correct</span>"
      ],
      "text/plain": [
       "Correct"
      ]
     },
     "metadata": {},
     "output_type": "display_data"
    }
   ],
   "source": [
    "results = {}\n",
    "# Your code here\n",
    "# 1~8을 넣게됌. 트리수는 50,100,150,200,250,300,350,400 이 될것임\n",
    "for i in range(1, 9):\n",
    "    results[50*i] = get_score(50*i)\n",
    "    print(results)\n",
    "\n",
    "# Check your answer\n",
    "step_2.check()"
   ]
  },
  {
   "cell_type": "code",
   "execution_count": 9,
   "id": "decddf4f",
   "metadata": {
    "execution": {
     "iopub.execute_input": "2021-08-18T18:29:58.619348Z",
     "iopub.status.busy": "2021-08-18T18:29:58.618284Z",
     "iopub.status.idle": "2021-08-18T18:29:58.621427Z",
     "shell.execute_reply": "2021-08-18T18:29:58.620777Z",
     "shell.execute_reply.started": "2021-08-18T18:27:45.796150Z"
    },
    "papermill": {
     "duration": 0.03389,
     "end_time": "2021-08-18T18:29:58.621575",
     "exception": false,
     "start_time": "2021-08-18T18:29:58.587685",
     "status": "completed"
    },
    "tags": []
   },
   "outputs": [],
   "source": [
    "# Lines below will give you a hint or solution code\n",
    "#step_2.hint()\n",
    "# step_2.solution()"
   ]
  },
  {
   "cell_type": "markdown",
   "id": "72eee7c1",
   "metadata": {
    "papermill": {
     "duration": 0.02589,
     "end_time": "2021-08-18T18:29:58.674089",
     "exception": false,
     "start_time": "2021-08-18T18:29:58.648199",
     "status": "completed"
    },
    "tags": []
   },
   "source": [
    "Use the next cell to visualize your results from Step 2.  Run the code without changes."
   ]
  },
  {
   "cell_type": "code",
   "execution_count": 10,
   "id": "2a7f6254",
   "metadata": {
    "execution": {
     "iopub.execute_input": "2021-08-18T18:29:58.749374Z",
     "iopub.status.busy": "2021-08-18T18:29:58.748691Z",
     "iopub.status.idle": "2021-08-18T18:29:58.913857Z",
     "shell.execute_reply": "2021-08-18T18:29:58.913283Z",
     "shell.execute_reply.started": "2021-08-18T18:27:45.802935Z"
    },
    "papermill": {
     "duration": 0.213363,
     "end_time": "2021-08-18T18:29:58.913997",
     "exception": false,
     "start_time": "2021-08-18T18:29:58.700634",
     "status": "completed"
    },
    "tags": []
   },
   "outputs": [
    {
     "data": {
      "image/png": "[encoded data removed]",
      "text/plain": [
       "<Figure size 432x288 with 1 Axes>"
      ]
     },
     "metadata": {
      "needs_background": "light"
     },
     "output_type": "display_data"
    }
   ],
   "source": [
    "import matplotlib.pyplot as plt\n",
    "%matplotlib inline\n",
    "\n",
    "plt.plot(list(results.keys()), list(results.values()))\n",
    "plt.show()"
   ]
  },
  {
   "cell_type": "markdown",
   "id": "a8f03c68",
   "metadata": {
    "papermill": {
     "duration": 0.026797,
     "end_time": "2021-08-18T18:29:58.968189",
     "exception": false,
     "start_time": "2021-08-18T18:29:58.941392",
     "status": "completed"
    },
    "tags": []
   },
   "source": [
    "# Step 3: Find the best parameter value\n",
    "\n",
    "Given the results, which value for `n_estimators` seems best for the random forest model?  Use your answer to set the value of `n_estimators_best`."
   ]
  },
  {
   "cell_type": "code",
   "execution_count": 11,
   "id": "5fb8a84e",
   "metadata": {
    "execution": {
     "iopub.execute_input": "2021-08-18T18:29:59.028376Z",
     "iopub.status.busy": "2021-08-18T18:29:59.027594Z",
     "iopub.status.idle": "2021-08-18T18:29:59.033389Z",
     "shell.execute_reply": "2021-08-18T18:29:59.032826Z",
     "shell.execute_reply.started": "2021-08-18T18:27:45.981812Z"
    },
    "papermill": {
     "duration": 0.038088,
     "end_time": "2021-08-18T18:29:59.033532",
     "exception": false,
     "start_time": "2021-08-18T18:29:58.995444",
     "status": "completed"
    },
    "tags": []
   },
   "outputs": [
    {
     "data": {
      "application/javascript": [
       "parent.postMessage({\"jupyterEvent\": \"custom.exercise_interaction\", \"data\": {\"outcomeType\": 1, \"valueTowardsCompletion\": 0.3333333333333333, \"interactionType\": 1, \"questionType\": 2, \"questionId\": \"3_BestEst\", \"learnToolsVersion\": \"0.3.4\", \"failureMessage\": \"\", \"exceptionClass\": \"\", \"trace\": \"\"}}, \"*\")"
      ],
      "text/plain": [
       "<IPython.core.display.Javascript object>"
      ]
     },
     "metadata": {},
     "output_type": "display_data"
    },
    {
     "data": {
      "text/markdown": [
       "<span style=\"color:#33cc33\">Correct</span>"
      ],
      "text/plain": [
       "Correct"
      ]
     },
     "metadata": {},
     "output_type": "display_data"
    }
   ],
   "source": [
    "n_estimators_best = 200\n",
    "\n",
    "# Check your answer\n",
    "step_3.check()"
   ]
  },
  {
   "cell_type": "code",
   "execution_count": 12,
   "id": "7f3a89f9",
   "metadata": {
    "execution": {
     "iopub.execute_input": "2021-08-18T18:29:59.095983Z",
     "iopub.status.busy": "2021-08-18T18:29:59.095347Z",
     "iopub.status.idle": "2021-08-18T18:29:59.098425Z",
     "shell.execute_reply": "2021-08-18T18:29:59.097858Z",
     "shell.execute_reply.started": "2021-08-18T18:27:45.992555Z"
    },
    "papermill": {
     "duration": 0.03613,
     "end_time": "2021-08-18T18:29:59.098574",
     "exception": false,
     "start_time": "2021-08-18T18:29:59.062444",
     "status": "completed"
    },
    "tags": []
   },
   "outputs": [],
   "source": [
    "# Lines below will give you a hint or solution code\n",
    "#step_3.hint()\n",
    "#step_3.solution()"
   ]
  },
  {
   "cell_type": "code",
   "execution_count": 13,
   "id": "8c0c0c38",
   "metadata": {
    "execution": {
     "iopub.execute_input": "2021-08-18T18:29:59.164736Z",
     "iopub.status.busy": "2021-08-18T18:29:59.161163Z",
     "iopub.status.idle": "2021-08-18T18:30:06.170367Z",
     "shell.execute_reply": "2021-08-18T18:30:06.169695Z",
     "shell.execute_reply.started": "2021-08-18T18:27:46.001758Z"
    },
    "papermill": {
     "duration": 7.0435,
     "end_time": "2021-08-18T18:30:06.170580",
     "exception": false,
     "start_time": "2021-08-18T18:29:59.127080",
     "status": "completed"
    },
    "tags": []
   },
   "outputs": [
    {
     "data": {
      "text/plain": [
       "18248.345889801505"
      ]
     },
     "execution_count": 13,
     "metadata": {},
     "output_type": "execute_result"
    }
   ],
   "source": [
    "get_score(200)"
   ]
  },
  {
   "cell_type": "markdown",
   "id": "ce21a6d7",
   "metadata": {
    "papermill": {
     "duration": 0.028666,
     "end_time": "2021-08-18T18:30:06.235010",
     "exception": false,
     "start_time": "2021-08-18T18:30:06.206344",
     "status": "completed"
    },
    "tags": []
   },
   "source": [
    "## **테스트셋 이용해서 predict**"
   ]
  },
  {
   "cell_type": "code",
   "execution_count": 14,
   "id": "130ec9ea",
   "metadata": {
    "execution": {
     "iopub.execute_input": "2021-08-18T18:30:06.302699Z",
     "iopub.status.busy": "2021-08-18T18:30:06.301936Z",
     "iopub.status.idle": "2021-08-18T18:30:08.076086Z",
     "shell.execute_reply": "2021-08-18T18:30:08.075561Z",
     "shell.execute_reply.started": "2021-08-18T18:27:53.043206Z"
    },
    "papermill": {
     "duration": 1.812626,
     "end_time": "2021-08-18T18:30:08.076229",
     "exception": false,
     "start_time": "2021-08-18T18:30:06.263603",
     "status": "completed"
    },
    "tags": []
   },
   "outputs": [
    {
     "data": {
      "text/plain": [
       "18353.8393511688"
      ]
     },
     "execution_count": 14,
     "metadata": {},
     "output_type": "execute_result"
    }
   ],
   "source": [
    "preprocessor = SimpleImputer()\n",
    "model = RandomForestRegressor(n_estimators=200, random_state=0)\n",
    "scores = -1 * cross_val_score(my_pipeline, X, y,\n",
    "                              cv=3,\n",
    "                              scoring='neg_mean_absolute_error')\n",
    "scores.mean()"
   ]
  },
  {
   "cell_type": "code",
   "execution_count": 15,
   "id": "57212c4c",
   "metadata": {
    "execution": {
     "iopub.execute_input": "2021-08-18T18:30:08.146098Z",
     "iopub.status.busy": "2021-08-18T18:30:08.144944Z",
     "iopub.status.idle": "2021-08-18T18:30:09.002844Z",
     "shell.execute_reply": "2021-08-18T18:30:09.003447Z",
     "shell.execute_reply.started": "2021-08-18T18:27:54.854319Z"
    },
    "papermill": {
     "duration": 0.896719,
     "end_time": "2021-08-18T18:30:09.003646",
     "exception": false,
     "start_time": "2021-08-18T18:30:08.106927",
     "status": "completed"
    },
    "tags": []
   },
   "outputs": [
    {
     "data": {
      "text/plain": [
       "Pipeline(steps=[('preprocessor', SimpleImputer()),\n",
       "                ('model',\n",
       "                 RandomForestRegressor(n_estimators=50, random_state=0))])"
      ]
     },
     "execution_count": 15,
     "metadata": {},
     "output_type": "execute_result"
    }
   ],
   "source": [
    "my_pipeline.fit(X, y)"
   ]
  },
  {
   "cell_type": "code",
   "execution_count": 16,
   "id": "809e42af",
   "metadata": {
    "execution": {
     "iopub.execute_input": "2021-08-18T18:30:09.066282Z",
     "iopub.status.busy": "2021-08-18T18:30:09.065232Z",
     "iopub.status.idle": "2021-08-18T18:30:09.089519Z",
     "shell.execute_reply": "2021-08-18T18:30:09.090040Z",
     "shell.execute_reply.started": "2021-08-18T18:27:55.723210Z"
    },
    "papermill": {
     "duration": 0.0572,
     "end_time": "2021-08-18T18:30:09.090206",
     "exception": false,
     "start_time": "2021-08-18T18:30:09.033006",
     "status": "completed"
    },
    "tags": []
   },
   "outputs": [],
   "source": [
    "preds_test = my_pipeline.predict(X_test)"
   ]
  },
  {
   "cell_type": "code",
   "execution_count": 17,
   "id": "03b4f196",
   "metadata": {
    "execution": {
     "iopub.execute_input": "2021-08-18T18:30:09.153013Z",
     "iopub.status.busy": "2021-08-18T18:30:09.152027Z",
     "iopub.status.idle": "2021-08-18T18:30:09.164925Z",
     "shell.execute_reply": "2021-08-18T18:30:09.165490Z",
     "shell.execute_reply.started": "2021-08-18T18:27:55.751897Z"
    },
    "papermill": {
     "duration": 0.045785,
     "end_time": "2021-08-18T18:30:09.165681",
     "exception": false,
     "start_time": "2021-08-18T18:30:09.119896",
     "status": "completed"
    },
    "tags": []
   },
   "outputs": [],
   "source": [
    "\n",
    "# Save test predictions to file\n",
    "output = pd.DataFrame({'Id': X_test.index,\n",
    "                       'SalePrice': preds_test})\n",
    "output.to_csv('submission.csv', index=False)"
   ]
  },
  {
   "cell_type": "markdown",
   "id": "1efa6d02",
   "metadata": {
    "papermill": {
     "duration": 0.029585,
     "end_time": "2021-08-18T18:30:09.225525",
     "exception": false,
     "start_time": "2021-08-18T18:30:09.195940",
     "status": "completed"
    },
    "tags": []
   },
   "source": [
    "In this exercise, you have explored one method for choosing appropriate parameters in a machine learning model.  \n",
    "\n",
    "If you'd like to learn more about [hyperparameter optimization](https://en.wikipedia.org/wiki/Hyperparameter_optimization), you're encouraged to start with **grid search**, which is a straightforward method for determining the best _combination_ of parameters for a machine learning model.  Thankfully, scikit-learn also contains a built-in function [`GridSearchCV()`](https://scikit-learn.org/stable/modules/generated/sklearn.model_selection.GridSearchCV.html) that can make your grid search code very efficient!\n",
    "\n",
    "# Keep going\n",
    "\n",
    "Continue to learn about **[gradient boosting](https://www.kaggle.com/alexisbcook/xgboost)**, a powerful technique that achieves state-of-the-art results on a variety of datasets."
   ]
  },
  {
   "cell_type": "markdown",
   "id": "8e532a32",
   "metadata": {
    "papermill": {
     "duration": 0.029321,
     "end_time": "2021-08-18T18:30:09.284262",
     "exception": false,
     "start_time": "2021-08-18T18:30:09.254941",
     "status": "completed"
    },
    "tags": []
   },
   "source": [
    "---\n",
    "\n",
    "\n",
    "\n",
    "\n",
    "*Have questions or comments? Visit the [Learn Discussion forum](https://www.kaggle.com/learn-forum/161289) to chat with other Learners.*"
   ]
  }
 ],
 "metadata": {
  "kernelspec": {
   "display_name": "Python 3",
   "language": "python",
   "name": "python3"
  },
  "language_info": {
   "codemirror_mode": {
    "name": "ipython",
    "version": 3
   },
   "file_extension": ".py",
   "mimetype": "text/x-python",
   "name": "python",
   "nbconvert_exporter": "python",
   "pygments_lexer": "ipython3",
   "version": "3.7.10"
  },
  "papermill": {
   "default_parameters": {},
   "duration": 89.695707,
   "end_time": "2021-08-18T18:30:10.023297",
   "environment_variables": {},
   "exception": null,
   "input_path": "__notebook__.ipynb",
   "output_path": "__notebook__.ipynb",
   "parameters": {},
   "start_time": "2021-08-18T18:28:40.327590",
   "version": "2.3.3"
  }
 },
 "nbformat": 4,
 "nbformat_minor": 5
}
