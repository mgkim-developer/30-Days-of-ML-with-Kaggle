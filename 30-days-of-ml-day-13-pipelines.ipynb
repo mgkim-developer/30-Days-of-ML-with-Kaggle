{
 "cells": [
  {
   "cell_type": "markdown",
   "id": "a19faed5",
   "metadata": {
    "papermill": {
     "duration": 0.015843,
     "end_time": "2021-08-17T14:49:37.949534",
     "exception": false,
     "start_time": "2021-08-17T14:49:37.933691",
     "status": "completed"
    },
    "tags": []
   },
   "source": [
    "**This notebook is an exercise in the [Intermediate Machine Learning](https://www.kaggle.com/learn/intermediate-machine-learning) course.  You can reference the tutorial at [this link](https://www.kaggle.com/alexisbcook/pipelines).**\n",
    "\n",
    "---\n"
   ]
  },
  {
   "cell_type": "markdown",
   "id": "2c6cb3e3",
   "metadata": {
    "papermill": {
     "duration": 0.014508,
     "end_time": "2021-08-17T14:49:37.981048",
     "exception": false,
     "start_time": "2021-08-17T14:49:37.966540",
     "status": "completed"
    },
    "tags": []
   },
   "source": [
    "In this exercise, you will use **pipelines** to improve the efficiency of your machine learning code.\n",
    "\n",
    "# Setup\n",
    "\n",
    "The questions below will give you feedback on your work. Run the following cell to set up the feedback system."
   ]
  },
  {
   "cell_type": "code",
   "execution_count": 1,
   "id": "eaac51d3",
   "metadata": {
    "execution": {
     "iopub.execute_input": "2021-08-17T14:49:38.014793Z",
     "iopub.status.busy": "2021-08-17T14:49:38.013551Z",
     "iopub.status.idle": "2021-08-17T14:49:38.965326Z",
     "shell.execute_reply": "2021-08-17T14:49:38.965813Z",
     "shell.execute_reply.started": "2021-08-17T13:15:31.676215Z"
    },
    "papermill": {
     "duration": 0.97028,
     "end_time": "2021-08-17T14:49:38.966105",
     "exception": false,
     "start_time": "2021-08-17T14:49:37.995825",
     "status": "completed"
    },
    "tags": []
   },
   "outputs": [
    {
     "name": "stdout",
     "output_type": "stream",
     "text": [
      "Setup Complete\n"
     ]
    }
   ],
   "source": [
    "# Set up code checking\n",
    "import os\n",
    "if not os.path.exists(\"../input/train.csv\"):\n",
    "    os.symlink(\"../input/home-data-for-ml-course/train.csv\", \"../input/train.csv\")  \n",
    "    os.symlink(\"../input/home-data-for-ml-course/test.csv\", \"../input/test.csv\") \n",
    "from learntools.core import binder\n",
    "binder.bind(globals())\n",
    "from learntools.ml_intermediate.ex4 import *\n",
    "print(\"Setup Complete\")"
   ]
  },
  {
   "cell_type": "markdown",
   "id": "a0d4c067",
   "metadata": {
    "papermill": {
     "duration": 0.014847,
     "end_time": "2021-08-17T14:49:38.996945",
     "exception": false,
     "start_time": "2021-08-17T14:49:38.982098",
     "status": "completed"
    },
    "tags": []
   },
   "source": [
    "You will work with data from the [Housing Prices Competition for Kaggle Learn Users](https://www.kaggle.com/c/home-data-for-ml-course). \n",
    "\n",
    "![Ames Housing dataset image](https://i.imgur.com/lTJVG4e.png)\n",
    "\n",
    "Run the next code cell without changes to load the training and validation sets in `X_train`, `X_valid`, `y_train`, and `y_valid`.  The test set is loaded in `X_test`."
   ]
  },
  {
   "cell_type": "code",
   "execution_count": 2,
   "id": "0aeedbee",
   "metadata": {
    "execution": {
     "iopub.execute_input": "2021-08-17T14:49:39.037516Z",
     "iopub.status.busy": "2021-08-17T14:49:39.036822Z",
     "iopub.status.idle": "2021-08-17T14:49:39.273892Z",
     "shell.execute_reply": "2021-08-17T14:49:39.274462Z",
     "shell.execute_reply.started": "2021-08-17T14:05:42.724535Z"
    },
    "papermill": {
     "duration": 0.262483,
     "end_time": "2021-08-17T14:49:39.274638",
     "exception": false,
     "start_time": "2021-08-17T14:49:39.012155",
     "status": "completed"
    },
    "tags": []
   },
   "outputs": [],
   "source": [
    "import pandas as pd\n",
    "from sklearn.model_selection import train_test_split\n",
    "\n",
    "# Read the data\n",
    "X_full = pd.read_csv('../input/train.csv', index_col='Id')\n",
    "X_test_full = pd.read_csv('../input/test.csv', index_col='Id')\n",
    "\n",
    "# Remove rows with missing target, separate target from predictors\n",
    "# dropna function은 DataFrame에서 NaN value가 존재하는 행(row) 또는 열(column)을 제거\n",
    "#subset은 부분집합이라는 뜻으로, \n",
    "# 아래줄의 코드는 SalePice에 Nan(결측값)이 있는 경우에 axis = = 0이므로 해당 row제거 , 만약 axis = 1 이면 해당 열 제거\n",
    "# SalePrice에 결측값이 없도록 만듬\n",
    "X_full.dropna(axis=0, subset=['SalePrice'], inplace=True)\n",
    "# 결측값 처리한후  y에 X_full의 SalePrice Column을 지정해주고\n",
    "y = X_full.SalePrice\n",
    "# 그후 X_full 에서 SalePrice 열을 제거해줌으로서 target을 제거한 데이터를 만든다.  \n",
    "X_full.drop(['SalePrice'], axis=1, inplace=True)\n",
    "\n",
    "# Break off validation set from training data\n",
    "# validation data를 만들기위해 train_test_split을 해준다.random_state=0\n",
    "X_train_full, X_valid_full, y_train, y_valid = train_test_split(X_full, y, \n",
    "                                                                train_size=0.8, test_size=0.2,\n",
    "                                                                random_state=0)\n",
    "\n",
    "# \"Cardinality\" means the number of unique values in a column\n",
    "# Select categorical columns with relatively low cardinality (convenient but arbitrary)\n",
    "# 카디널리티는 컬럼에 있는 고유한 값의 수를 의미한다. (범주형 데이터중 고유한 값)\n",
    "# 상대적으로 카디널리티가 낮은 범주형 열을 선택한다. 10개미만,  그 이유는 카디널리티가 너무 높을경우 부정확해질수도 있음 \n",
    "categorical_cols = [cname for cname in X_train_full.columns if\n",
    "                    X_train_full[cname].nunique() < 10 and \n",
    "                    X_train_full[cname].dtype == \"object\"]\n",
    "\n",
    "# Select numerical columns\n",
    "# 숫자 데이터로 이루어진 열 선택\n",
    "numerical_cols = [cname for cname in X_train_full.columns if \n",
    "                X_train_full[cname].dtype in ['int64', 'float64']]\n",
    "\n",
    "# Keep selected columns only\n",
    "# 모든 열은 숫자데이터열+범주형데이터열\n",
    "# my_cols로 선택된 열만 각 데이터세트에 유지\n",
    "my_cols = categorical_cols + numerical_cols\n",
    "X_train = X_train_full[my_cols].copy()\n",
    "X_valid = X_valid_full[my_cols].copy()\n",
    "X_test = X_test_full[my_cols].copy()"
   ]
  },
  {
   "cell_type": "code",
   "execution_count": 3,
   "id": "b819edfa",
   "metadata": {
    "execution": {
     "iopub.execute_input": "2021-08-17T14:49:39.327780Z",
     "iopub.status.busy": "2021-08-17T14:49:39.326755Z",
     "iopub.status.idle": "2021-08-17T14:49:39.362286Z",
     "shell.execute_reply": "2021-08-17T14:49:39.363106Z",
     "shell.execute_reply.started": "2021-08-17T14:05:44.882631Z"
    },
    "papermill": {
     "duration": 0.063039,
     "end_time": "2021-08-17T14:49:39.363361",
     "exception": false,
     "start_time": "2021-08-17T14:49:39.300322",
     "status": "completed"
    },
    "tags": []
   },
   "outputs": [
    {
     "data": {
      "text/html": [
       "<div>\n",
       "<style scoped>\n",
       "    .dataframe tbody tr th:only-of-type {\n",
       "        vertical-align: middle;\n",
       "    }\n",
       "\n",
       "    .dataframe tbody tr th {\n",
       "        vertical-align: top;\n",
       "    }\n",
       "\n",
       "    .dataframe thead th {\n",
       "        text-align: right;\n",
       "    }\n",
       "</style>\n",
       "<table border=\"1\" class=\"dataframe\">\n",
       "  <thead>\n",
       "    <tr style=\"text-align: right;\">\n",
       "      <th></th>\n",
       "      <th>MSZoning</th>\n",
       "      <th>Street</th>\n",
       "      <th>Alley</th>\n",
       "      <th>LotShape</th>\n",
       "      <th>LandContour</th>\n",
       "      <th>Utilities</th>\n",
       "      <th>LotConfig</th>\n",
       "      <th>LandSlope</th>\n",
       "      <th>Condition1</th>\n",
       "      <th>Condition2</th>\n",
       "      <th>...</th>\n",
       "      <th>GarageArea</th>\n",
       "      <th>WoodDeckSF</th>\n",
       "      <th>OpenPorchSF</th>\n",
       "      <th>EnclosedPorch</th>\n",
       "      <th>3SsnPorch</th>\n",
       "      <th>ScreenPorch</th>\n",
       "      <th>PoolArea</th>\n",
       "      <th>MiscVal</th>\n",
       "      <th>MoSold</th>\n",
       "      <th>YrSold</th>\n",
       "    </tr>\n",
       "    <tr>\n",
       "      <th>Id</th>\n",
       "      <th></th>\n",
       "      <th></th>\n",
       "      <th></th>\n",
       "      <th></th>\n",
       "      <th></th>\n",
       "      <th></th>\n",
       "      <th></th>\n",
       "      <th></th>\n",
       "      <th></th>\n",
       "      <th></th>\n",
       "      <th></th>\n",
       "      <th></th>\n",
       "      <th></th>\n",
       "      <th></th>\n",
       "      <th></th>\n",
       "      <th></th>\n",
       "      <th></th>\n",
       "      <th></th>\n",
       "      <th></th>\n",
       "      <th></th>\n",
       "      <th></th>\n",
       "    </tr>\n",
       "  </thead>\n",
       "  <tbody>\n",
       "    <tr>\n",
       "      <th>619</th>\n",
       "      <td>RL</td>\n",
       "      <td>Pave</td>\n",
       "      <td>NaN</td>\n",
       "      <td>Reg</td>\n",
       "      <td>Lvl</td>\n",
       "      <td>AllPub</td>\n",
       "      <td>Inside</td>\n",
       "      <td>Gtl</td>\n",
       "      <td>Norm</td>\n",
       "      <td>Norm</td>\n",
       "      <td>...</td>\n",
       "      <td>774</td>\n",
       "      <td>0</td>\n",
       "      <td>108</td>\n",
       "      <td>0</td>\n",
       "      <td>0</td>\n",
       "      <td>260</td>\n",
       "      <td>0</td>\n",
       "      <td>0</td>\n",
       "      <td>7</td>\n",
       "      <td>2007</td>\n",
       "    </tr>\n",
       "    <tr>\n",
       "      <th>871</th>\n",
       "      <td>RL</td>\n",
       "      <td>Pave</td>\n",
       "      <td>NaN</td>\n",
       "      <td>Reg</td>\n",
       "      <td>Lvl</td>\n",
       "      <td>AllPub</td>\n",
       "      <td>Inside</td>\n",
       "      <td>Gtl</td>\n",
       "      <td>PosN</td>\n",
       "      <td>Norm</td>\n",
       "      <td>...</td>\n",
       "      <td>308</td>\n",
       "      <td>0</td>\n",
       "      <td>0</td>\n",
       "      <td>0</td>\n",
       "      <td>0</td>\n",
       "      <td>0</td>\n",
       "      <td>0</td>\n",
       "      <td>0</td>\n",
       "      <td>8</td>\n",
       "      <td>2009</td>\n",
       "    </tr>\n",
       "    <tr>\n",
       "      <th>93</th>\n",
       "      <td>RL</td>\n",
       "      <td>Pave</td>\n",
       "      <td>Grvl</td>\n",
       "      <td>IR1</td>\n",
       "      <td>HLS</td>\n",
       "      <td>AllPub</td>\n",
       "      <td>Inside</td>\n",
       "      <td>Gtl</td>\n",
       "      <td>Norm</td>\n",
       "      <td>Norm</td>\n",
       "      <td>...</td>\n",
       "      <td>432</td>\n",
       "      <td>0</td>\n",
       "      <td>0</td>\n",
       "      <td>44</td>\n",
       "      <td>0</td>\n",
       "      <td>0</td>\n",
       "      <td>0</td>\n",
       "      <td>0</td>\n",
       "      <td>8</td>\n",
       "      <td>2009</td>\n",
       "    </tr>\n",
       "    <tr>\n",
       "      <th>818</th>\n",
       "      <td>RL</td>\n",
       "      <td>Pave</td>\n",
       "      <td>NaN</td>\n",
       "      <td>IR1</td>\n",
       "      <td>Lvl</td>\n",
       "      <td>AllPub</td>\n",
       "      <td>CulDSac</td>\n",
       "      <td>Gtl</td>\n",
       "      <td>Norm</td>\n",
       "      <td>Norm</td>\n",
       "      <td>...</td>\n",
       "      <td>857</td>\n",
       "      <td>150</td>\n",
       "      <td>59</td>\n",
       "      <td>0</td>\n",
       "      <td>0</td>\n",
       "      <td>0</td>\n",
       "      <td>0</td>\n",
       "      <td>0</td>\n",
       "      <td>7</td>\n",
       "      <td>2008</td>\n",
       "    </tr>\n",
       "    <tr>\n",
       "      <th>303</th>\n",
       "      <td>RL</td>\n",
       "      <td>Pave</td>\n",
       "      <td>NaN</td>\n",
       "      <td>IR1</td>\n",
       "      <td>Lvl</td>\n",
       "      <td>AllPub</td>\n",
       "      <td>Corner</td>\n",
       "      <td>Gtl</td>\n",
       "      <td>Norm</td>\n",
       "      <td>Norm</td>\n",
       "      <td>...</td>\n",
       "      <td>843</td>\n",
       "      <td>468</td>\n",
       "      <td>81</td>\n",
       "      <td>0</td>\n",
       "      <td>0</td>\n",
       "      <td>0</td>\n",
       "      <td>0</td>\n",
       "      <td>0</td>\n",
       "      <td>1</td>\n",
       "      <td>2006</td>\n",
       "    </tr>\n",
       "  </tbody>\n",
       "</table>\n",
       "<p>5 rows × 76 columns</p>\n",
       "</div>"
      ],
      "text/plain": [
       "    MSZoning Street Alley LotShape LandContour Utilities LotConfig LandSlope  \\\n",
       "Id                                                                             \n",
       "619       RL   Pave   NaN      Reg         Lvl    AllPub    Inside       Gtl   \n",
       "871       RL   Pave   NaN      Reg         Lvl    AllPub    Inside       Gtl   \n",
       "93        RL   Pave  Grvl      IR1         HLS    AllPub    Inside       Gtl   \n",
       "818       RL   Pave   NaN      IR1         Lvl    AllPub   CulDSac       Gtl   \n",
       "303       RL   Pave   NaN      IR1         Lvl    AllPub    Corner       Gtl   \n",
       "\n",
       "    Condition1 Condition2  ... GarageArea WoodDeckSF OpenPorchSF  \\\n",
       "Id                         ...                                     \n",
       "619       Norm       Norm  ...        774          0         108   \n",
       "871       PosN       Norm  ...        308          0           0   \n",
       "93        Norm       Norm  ...        432          0           0   \n",
       "818       Norm       Norm  ...        857        150          59   \n",
       "303       Norm       Norm  ...        843        468          81   \n",
       "\n",
       "    EnclosedPorch 3SsnPorch ScreenPorch PoolArea MiscVal MoSold YrSold  \n",
       "Id                                                                      \n",
       "619             0         0         260        0       0      7   2007  \n",
       "871             0         0           0        0       0      8   2009  \n",
       "93             44         0           0        0       0      8   2009  \n",
       "818             0         0           0        0       0      7   2008  \n",
       "303             0         0           0        0       0      1   2006  \n",
       "\n",
       "[5 rows x 76 columns]"
      ]
     },
     "execution_count": 3,
     "metadata": {},
     "output_type": "execute_result"
    }
   ],
   "source": [
    "X_train.head()"
   ]
  },
  {
   "cell_type": "markdown",
   "id": "2f58ea8a",
   "metadata": {
    "papermill": {
     "duration": 0.016499,
     "end_time": "2021-08-17T14:49:39.400021",
     "exception": false,
     "start_time": "2021-08-17T14:49:39.383522",
     "status": "completed"
    },
    "tags": []
   },
   "source": [
    "The next code cell uses code from the tutorial to preprocess the data and train a model.  Run this code without changes."
   ]
  },
  {
   "cell_type": "code",
   "execution_count": 4,
   "id": "ddbd307b",
   "metadata": {
    "execution": {
     "iopub.execute_input": "2021-08-17T14:49:39.448122Z",
     "iopub.status.busy": "2021-08-17T14:49:39.447319Z",
     "iopub.status.idle": "2021-08-17T14:49:42.356974Z",
     "shell.execute_reply": "2021-08-17T14:49:42.356435Z",
     "shell.execute_reply.started": "2021-08-17T14:35:42.086964Z"
    },
    "papermill": {
     "duration": 2.939681,
     "end_time": "2021-08-17T14:49:42.357113",
     "exception": false,
     "start_time": "2021-08-17T14:49:39.417432",
     "status": "completed"
    },
    "tags": []
   },
   "outputs": [
    {
     "name": "stdout",
     "output_type": "stream",
     "text": [
      "MAE: 17861.780102739725\n"
     ]
    }
   ],
   "source": [
    "from sklearn.compose import ColumnTransformer\n",
    "from sklearn.pipeline import Pipeline\n",
    "from sklearn.impute import SimpleImputer\n",
    "from sklearn.preprocessing import OneHotEncoder\n",
    "from sklearn.ensemble import RandomForestRegressor\n",
    "from sklearn.metrics import mean_absolute_error\n",
    "\n",
    "# Preprocessing for numerical data\n",
    "# strategy ==“constant”인 경우 fill_value를 사용하여 missing_value의 모든 발생을 대체한다..\n",
    "# 기본값을 그대로두면 숫자 데이터를 대치 할 때 fill_value는 0이되고\n",
    "# 문자열 또는 객체 데이터 형식은 \"missing_value\"가 된다.\n",
    "# 즉 아래의 코드는 숫자데이터열에 결측값이 있으면 0이 채워짐.\n",
    "numerical_transformer = SimpleImputer(strategy='constant')\n",
    "\n",
    "# Preprocessing for categorical data\n",
    "# 범주형 데이터는 결측값은 가장 빈번히 나온 데이터로 채운다.\n",
    "# 그리고 오류가나오면 해당열은 0을 채우고 무시한다. 즉 해당 카테고리는 버린다.)\n",
    "categorical_transformer = Pipeline(steps=[\n",
    "    ('imputer', SimpleImputer(strategy='most_frequent')),\n",
    "    ('onehot', OneHotEncoder(handle_unknown='ignore'))\n",
    "])\n",
    "\n",
    "# Bundle preprocessing for numerical and categorical data\n",
    "# 숫자 및 범주형 데이터에 대해 번들 전처리\n",
    "preprocessor = ColumnTransformer(\n",
    "    transformers=[\n",
    "        ('num', numerical_transformer, numerical_cols),\n",
    "        ('cat', categorical_transformer, categorical_cols)\n",
    "    ])\n",
    "\n",
    "# Define model\n",
    "model = RandomForestRegressor(n_estimators=100, random_state=0)\n",
    "\n",
    "# Bundle preprocessing and modeling code in a pipeline\n",
    "# 파이프라인에서 전처리 및 모델링 코드 번들\n",
    "clf = Pipeline(steps=[('preprocessor', preprocessor),\n",
    "                      ('model', model)\n",
    "                     ])\n",
    "\n",
    "# Preprocessing of training data, fit model \n",
    "clf.fit(X_train, y_train)\n",
    "\n",
    "# Preprocessing of validation data, get predictions\n",
    "preds = clf.predict(X_valid)\n",
    "\n",
    "print('MAE:', mean_absolute_error(y_valid, preds))"
   ]
  },
  {
   "cell_type": "markdown",
   "id": "687b22a3",
   "metadata": {
    "papermill": {
     "duration": 0.01605,
     "end_time": "2021-08-17T14:49:42.389755",
     "exception": false,
     "start_time": "2021-08-17T14:49:42.373705",
     "status": "completed"
    },
    "tags": []
   },
   "source": [
    "The code yields a value around 17862 for the mean absolute error (MAE).  In the next step, you will amend the code to do better.\n",
    "\n",
    "# Step 1: Improve the performance\n",
    "\n",
    "### Part A\n",
    "\n",
    "Now, it's your turn!  In the code cell below, define your own preprocessing steps and random forest model.  Fill in values for the following variables:\n",
    "- `numerical_transformer`\n",
    "- `categorical_transformer`\n",
    "- `model`\n",
    "\n",
    "To pass this part of the exercise, you need only define valid preprocessing steps and a random forest model."
   ]
  },
  {
   "cell_type": "code",
   "execution_count": 5,
   "id": "ec8e82ba",
   "metadata": {
    "execution": {
     "iopub.execute_input": "2021-08-17T14:49:42.429667Z",
     "iopub.status.busy": "2021-08-17T14:49:42.428944Z",
     "iopub.status.idle": "2021-08-17T14:49:42.434502Z",
     "shell.execute_reply": "2021-08-17T14:49:42.434950Z",
     "shell.execute_reply.started": "2021-08-17T14:43:54.613397Z"
    },
    "papermill": {
     "duration": 0.029383,
     "end_time": "2021-08-17T14:49:42.435115",
     "exception": false,
     "start_time": "2021-08-17T14:49:42.405732",
     "status": "completed"
    },
    "tags": []
   },
   "outputs": [
    {
     "data": {
      "application/javascript": [
       "parent.postMessage({\"jupyterEvent\": \"custom.exercise_interaction\", \"data\": {\"outcomeType\": 1, \"valueTowardsCompletion\": 1.0, \"interactionType\": 1, \"questionType\": 2, \"questionId\": \"1.1_YourTurnModel\", \"learnToolsVersion\": \"0.3.4\", \"failureMessage\": \"\", \"exceptionClass\": \"\", \"trace\": \"\"}}, \"*\")"
      ],
      "text/plain": [
       "<IPython.core.display.Javascript object>"
      ]
     },
     "metadata": {},
     "output_type": "display_data"
    },
    {
     "data": {
      "text/markdown": [
       "<span style=\"color:#33cc33\">Correct</span>"
      ],
      "text/plain": [
       "Correct"
      ]
     },
     "metadata": {},
     "output_type": "display_data"
    }
   ],
   "source": [
    "# Preprocessing for numerical data\n",
    "numerical_transformer = SimpleImputer(strategy = 'constant') # Your code here\n",
    "\n",
    "# Preprocessing for categorical data\n",
    "categorical_transformer = Pipeline(steps=[\n",
    "    ('imputer', SimpleImputer(strategy='most_frequent')),\n",
    "    ('onehot', OneHotEncoder(handle_unknown='ignore'))\n",
    "\n",
    "]) # Your code here\n",
    "\n",
    "# Bundle preprocessing for numerical and categorical data\n",
    "preprocessor = ColumnTransformer(\n",
    "    transformers=[\n",
    "        ('num', numerical_transformer, numerical_cols),\n",
    "        ('cat', categorical_transformer, categorical_cols)\n",
    "    ])\n",
    "\n",
    "# Define model\n",
    "model = RandomForestRegressor(n_estimators = 200, random_state = 0) # Your code here\n",
    "\n",
    "# Check your answer\n",
    "step_1.a.check()"
   ]
  },
  {
   "cell_type": "code",
   "execution_count": 6,
   "id": "d09142ad",
   "metadata": {
    "execution": {
     "iopub.execute_input": "2021-08-17T14:49:42.473815Z",
     "iopub.status.busy": "2021-08-17T14:49:42.472983Z",
     "iopub.status.idle": "2021-08-17T14:49:42.475754Z",
     "shell.execute_reply": "2021-08-17T14:49:42.476274Z",
     "shell.execute_reply.started": "2021-08-17T14:44:12.470746Z"
    },
    "papermill": {
     "duration": 0.024105,
     "end_time": "2021-08-17T14:49:42.476441",
     "exception": false,
     "start_time": "2021-08-17T14:49:42.452336",
     "status": "completed"
    },
    "tags": []
   },
   "outputs": [],
   "source": [
    "# Lines below will give you a hint or solution code\n",
    "#step_1.a.hint()\n",
    "# step_1.a.solution()"
   ]
  },
  {
   "cell_type": "markdown",
   "id": "f1edf895",
   "metadata": {
    "papermill": {
     "duration": 0.016541,
     "end_time": "2021-08-17T14:49:42.510159",
     "exception": false,
     "start_time": "2021-08-17T14:49:42.493618",
     "status": "completed"
    },
    "tags": []
   },
   "source": [
    "### Part B\n",
    "\n",
    "Run the code cell below without changes.\n",
    "\n",
    "To pass this step, you need to have defined a pipeline in **Part A** that achieves lower MAE than the code above.  You're encouraged to take your time here and try out many different approaches, to see how low you can get the MAE!  (_If your code does not pass, please amend the preprocessing steps and model in Part A._)"
   ]
  },
  {
   "cell_type": "code",
   "execution_count": 7,
   "id": "254ed5d9",
   "metadata": {
    "execution": {
     "iopub.execute_input": "2021-08-17T14:49:42.557202Z",
     "iopub.status.busy": "2021-08-17T14:49:42.554762Z",
     "iopub.status.idle": "2021-08-17T14:49:47.821901Z",
     "shell.execute_reply": "2021-08-17T14:49:47.822639Z",
     "shell.execute_reply.started": "2021-08-17T14:47:30.034113Z"
    },
    "papermill": {
     "duration": 5.295823,
     "end_time": "2021-08-17T14:49:47.822900",
     "exception": false,
     "start_time": "2021-08-17T14:49:42.527077",
     "status": "completed"
    },
    "tags": []
   },
   "outputs": [
    {
     "name": "stdout",
     "output_type": "stream",
     "text": [
      "MAE: 17600.602294520544\n"
     ]
    },
    {
     "data": {
      "application/javascript": [
       "parent.postMessage({\"jupyterEvent\": \"custom.exercise_interaction\", \"data\": {\"outcomeType\": 1, \"valueTowardsCompletion\": 1.0, \"interactionType\": 1, \"questionType\": 2, \"questionId\": \"1.2_YourTurnPredict\", \"learnToolsVersion\": \"0.3.4\", \"failureMessage\": \"\", \"exceptionClass\": \"\", \"trace\": \"\"}}, \"*\")"
      ],
      "text/plain": [
       "<IPython.core.display.Javascript object>"
      ]
     },
     "metadata": {},
     "output_type": "display_data"
    },
    {
     "data": {
      "text/markdown": [
       "<span style=\"color:#33cc33\">Correct</span>"
      ],
      "text/plain": [
       "Correct"
      ]
     },
     "metadata": {},
     "output_type": "display_data"
    }
   ],
   "source": [
    "# Bundle preprocessing and modeling code in a pipeline\n",
    "my_pipeline = Pipeline(steps=[('preprocessor', preprocessor),\n",
    "                              ('model', model)\n",
    "                             ])\n",
    "\n",
    "# Preprocessing of training data, fit model \n",
    "my_pipeline.fit(X_train, y_train)\n",
    "\n",
    "# Preprocessing of validation data, get predictions\n",
    "preds = my_pipeline.predict(X_valid)\n",
    "\n",
    "# Evaluate the model\n",
    "score = mean_absolute_error(y_valid, preds)\n",
    "print('MAE:', score)\n",
    "\n",
    "# Check your answer\n",
    "step_1.b.check()"
   ]
  },
  {
   "cell_type": "code",
   "execution_count": 8,
   "id": "c3e5e276",
   "metadata": {
    "execution": {
     "iopub.execute_input": "2021-08-17T14:49:47.868140Z",
     "iopub.status.busy": "2021-08-17T14:49:47.867538Z",
     "iopub.status.idle": "2021-08-17T14:49:47.870870Z",
     "shell.execute_reply": "2021-08-17T14:49:47.870390Z"
    },
    "papermill": {
     "duration": 0.025348,
     "end_time": "2021-08-17T14:49:47.871007",
     "exception": false,
     "start_time": "2021-08-17T14:49:47.845659",
     "status": "completed"
    },
    "tags": []
   },
   "outputs": [],
   "source": [
    "# Line below will give you a hint\n",
    "#step_1.b.hint()"
   ]
  },
  {
   "cell_type": "markdown",
   "id": "08cf1360",
   "metadata": {
    "papermill": {
     "duration": 0.018323,
     "end_time": "2021-08-17T14:49:47.908050",
     "exception": false,
     "start_time": "2021-08-17T14:49:47.889727",
     "status": "completed"
    },
    "tags": []
   },
   "source": [
    "# Step 2: Generate test predictions\n",
    "\n",
    "Now, you'll use your trained model to generate predictions with the test data."
   ]
  },
  {
   "cell_type": "code",
   "execution_count": 9,
   "id": "8f3b7e2b",
   "metadata": {
    "execution": {
     "iopub.execute_input": "2021-08-17T14:49:47.955384Z",
     "iopub.status.busy": "2021-08-17T14:49:47.954371Z",
     "iopub.status.idle": "2021-08-17T14:49:48.066404Z",
     "shell.execute_reply": "2021-08-17T14:49:48.065890Z",
     "shell.execute_reply.started": "2021-08-17T14:48:42.271655Z"
    },
    "papermill": {
     "duration": 0.139808,
     "end_time": "2021-08-17T14:49:48.066543",
     "exception": false,
     "start_time": "2021-08-17T14:49:47.926735",
     "status": "completed"
    },
    "tags": []
   },
   "outputs": [
    {
     "data": {
      "application/javascript": [
       "parent.postMessage({\"jupyterEvent\": \"custom.exercise_interaction\", \"data\": {\"outcomeType\": 1, \"valueTowardsCompletion\": 1.0, \"interactionType\": 1, \"questionType\": 2, \"questionId\": \"2_TestPreds\", \"learnToolsVersion\": \"0.3.4\", \"failureMessage\": \"\", \"exceptionClass\": \"\", \"trace\": \"\"}}, \"*\")"
      ],
      "text/plain": [
       "<IPython.core.display.Javascript object>"
      ]
     },
     "metadata": {},
     "output_type": "display_data"
    },
    {
     "data": {
      "text/markdown": [
       "<span style=\"color:#33cc33\">Correct</span>"
      ],
      "text/plain": [
       "Correct"
      ]
     },
     "metadata": {},
     "output_type": "display_data"
    }
   ],
   "source": [
    "# Preprocessing of test data, fit model\n",
    "preds_test = my_pipeline.predict(X_test) # Your code here\n",
    "\n",
    "# Check your answer\n",
    "step_2.check()"
   ]
  },
  {
   "cell_type": "code",
   "execution_count": 10,
   "id": "d6a33670",
   "metadata": {
    "execution": {
     "iopub.execute_input": "2021-08-17T14:49:48.109871Z",
     "iopub.status.busy": "2021-08-17T14:49:48.109199Z",
     "iopub.status.idle": "2021-08-17T14:49:48.112803Z",
     "shell.execute_reply": "2021-08-17T14:49:48.113292Z"
    },
    "papermill": {
     "duration": 0.027327,
     "end_time": "2021-08-17T14:49:48.113475",
     "exception": false,
     "start_time": "2021-08-17T14:49:48.086148",
     "status": "completed"
    },
    "tags": []
   },
   "outputs": [],
   "source": [
    "# Lines below will give you a hint or solution code\n",
    "#step_2.hint()\n",
    "#step_2.solution()"
   ]
  },
  {
   "cell_type": "markdown",
   "id": "3f466e8b",
   "metadata": {
    "papermill": {
     "duration": 0.0194,
     "end_time": "2021-08-17T14:49:48.152758",
     "exception": false,
     "start_time": "2021-08-17T14:49:48.133358",
     "status": "completed"
    },
    "tags": []
   },
   "source": [
    "Run the next code cell without changes to save your results to a CSV file that can be submitted directly to the competition."
   ]
  },
  {
   "cell_type": "code",
   "execution_count": 11,
   "id": "769c06d6",
   "metadata": {
    "execution": {
     "iopub.execute_input": "2021-08-17T14:49:48.199079Z",
     "iopub.status.busy": "2021-08-17T14:49:48.198434Z",
     "iopub.status.idle": "2021-08-17T14:49:48.208596Z",
     "shell.execute_reply": "2021-08-17T14:49:48.209082Z",
     "shell.execute_reply.started": "2021-08-17T14:49:07.616753Z"
    },
    "papermill": {
     "duration": 0.036843,
     "end_time": "2021-08-17T14:49:48.209287",
     "exception": false,
     "start_time": "2021-08-17T14:49:48.172444",
     "status": "completed"
    },
    "tags": []
   },
   "outputs": [],
   "source": [
    "# Save test predictions to file\n",
    "output = pd.DataFrame({'Id': X_test.index,\n",
    "                       'SalePrice': preds_test})\n",
    "output.to_csv('submission.csv', index=False)"
   ]
  },
  {
   "cell_type": "markdown",
   "id": "aa1e4cf6",
   "metadata": {
    "papermill": {
     "duration": 0.019251,
     "end_time": "2021-08-17T14:49:48.249135",
     "exception": false,
     "start_time": "2021-08-17T14:49:48.229884",
     "status": "completed"
    },
    "tags": []
   },
   "source": [
    "# Submit your results\n",
    "\n",
    "Once you have successfully completed Step 2, you're ready to submit your results to the leaderboard!  If you choose to do so, make sure that you have already joined the competition by clicking on the **Join Competition** button at [this link](https://www.kaggle.com/c/home-data-for-ml-course).  \n",
    "1. Begin by clicking on the blue **Save Version** button in the top right corner of the window.  This will generate a pop-up window.  \n",
    "2. Ensure that the **Save and Run All** option is selected, and then click on the blue **Save** button.\n",
    "3. This generates a window in the bottom left corner of the notebook.  After it has finished running, click on the number to the right of the **Save Version** button.  This pulls up a list of versions on the right of the screen.  Click on the ellipsis **(...)** to the right of the most recent version, and select **Open in Viewer**.  This brings you into view mode of the same page. You will need to scroll down to get back to these instructions.\n",
    "4. Click on the **Output** tab on the right of the screen.  Then, click on the file you would like to submit, and click on the blue **Submit** button to submit your results to the leaderboard.\n",
    "\n",
    "You have now successfully submitted to the competition!\n",
    "\n",
    "If you want to keep working to improve your performance, select the blue **Edit** button in the top right of the screen. Then you can change your code and repeat the process. There's a lot of room to improve, and you will climb up the leaderboard as you work.\n",
    "\n",
    "\n",
    "# Keep going\n",
    "\n",
    "Move on to learn about [**cross-validation**](https://www.kaggle.com/alexisbcook/cross-validation), a technique you can use to obtain more accurate estimates of model performance!"
   ]
  },
  {
   "cell_type": "markdown",
   "id": "782f72b3",
   "metadata": {
    "papermill": {
     "duration": 0.019314,
     "end_time": "2021-08-17T14:49:48.287943",
     "exception": false,
     "start_time": "2021-08-17T14:49:48.268629",
     "status": "completed"
    },
    "tags": []
   },
   "source": [
    "---\n",
    "\n",
    "\n",
    "\n",
    "\n",
    "*Have questions or comments? Visit the [Learn Discussion forum](https://www.kaggle.com/learn-forum/161289) to chat with other Learners.*"
   ]
  }
 ],
 "metadata": {
  "kernelspec": {
   "display_name": "Python 3",
   "language": "python",
   "name": "python3"
  },
  "language_info": {
   "codemirror_mode": {
    "name": "ipython",
    "version": 3
   },
   "file_extension": ".py",
   "mimetype": "text/x-python",
   "name": "python",
   "nbconvert_exporter": "python",
   "pygments_lexer": "ipython3",
   "version": "3.7.10"
  },
  "papermill": {
   "default_parameters": {},
   "duration": 19.753751,
   "end_time": "2021-08-17T14:49:49.928049",
   "environment_variables": {},
   "exception": null,
   "input_path": "__notebook__.ipynb",
   "output_path": "__notebook__.ipynb",
   "parameters": {},
   "start_time": "2021-08-17T14:49:30.174298",
   "version": "2.3.3"
  }
 },
 "nbformat": 4,
 "nbformat_minor": 5
}
